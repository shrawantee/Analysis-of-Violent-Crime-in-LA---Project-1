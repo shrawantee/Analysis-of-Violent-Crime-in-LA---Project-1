{
 "cells": [
  {
   "cell_type": "code",
   "execution_count": 24,
   "metadata": {},
   "outputs": [
    {
     "name": "stdout",
     "output_type": "stream",
     "text": [
      "The version of Folium used is:\n",
      "0.6.0\n",
      "The length of crimedata dataframe is: 33139\n"
     ]
    },
    {
     "data": {
      "text/html": [
       "<div>\n",
       "<style scoped>\n",
       "    .dataframe tbody tr th:only-of-type {\n",
       "        vertical-align: middle;\n",
       "    }\n",
       "\n",
       "    .dataframe tbody tr th {\n",
       "        vertical-align: top;\n",
       "    }\n",
       "\n",
       "    .dataframe thead th {\n",
       "        text-align: right;\n",
       "    }\n",
       "</style>\n",
       "<table border=\"1\" class=\"dataframe\">\n",
       "  <thead>\n",
       "    <tr style=\"text-align: right;\">\n",
       "      <th></th>\n",
       "      <th>Unnamed: 0</th>\n",
       "      <th>area_id</th>\n",
       "      <th>area_name</th>\n",
       "      <th>crm_cd</th>\n",
       "      <th>crm_cd_1</th>\n",
       "      <th>crm_cd_2</th>\n",
       "      <th>crm_cd_3</th>\n",
       "      <th>crm_cd_4</th>\n",
       "      <th>crm_cd_desc</th>\n",
       "      <th>cross_street</th>\n",
       "      <th>...</th>\n",
       "      <th>vict_age</th>\n",
       "      <th>vict_descent</th>\n",
       "      <th>vict_sex</th>\n",
       "      <th>weapon_desc</th>\n",
       "      <th>weapon_used_cd</th>\n",
       "      <th>Month</th>\n",
       "      <th>Year</th>\n",
       "      <th>Latitude</th>\n",
       "      <th>Longitude</th>\n",
       "      <th>Zip Code</th>\n",
       "    </tr>\n",
       "  </thead>\n",
       "  <tbody>\n",
       "    <tr>\n",
       "      <th>0</th>\n",
       "      <td>3903</td>\n",
       "      <td>12</td>\n",
       "      <td>77th Street</td>\n",
       "      <td>110</td>\n",
       "      <td>110</td>\n",
       "      <td>998.0</td>\n",
       "      <td>NaN</td>\n",
       "      <td>NaN</td>\n",
       "      <td>CRIMINAL HOMICIDE</td>\n",
       "      <td>NaN</td>\n",
       "      <td>...</td>\n",
       "      <td>25.0</td>\n",
       "      <td>B</td>\n",
       "      <td>M</td>\n",
       "      <td>UNKNOWN FIREARM</td>\n",
       "      <td>106.0</td>\n",
       "      <td>9</td>\n",
       "      <td>2017</td>\n",
       "      <td>33.9638</td>\n",
       "      <td>-118.2575</td>\n",
       "      <td>90001</td>\n",
       "    </tr>\n",
       "    <tr>\n",
       "      <th>1</th>\n",
       "      <td>4000</td>\n",
       "      <td>12</td>\n",
       "      <td>77th Street</td>\n",
       "      <td>110</td>\n",
       "      <td>110</td>\n",
       "      <td>NaN</td>\n",
       "      <td>NaN</td>\n",
       "      <td>NaN</td>\n",
       "      <td>CRIMINAL HOMICIDE</td>\n",
       "      <td>NaN</td>\n",
       "      <td>...</td>\n",
       "      <td>26.0</td>\n",
       "      <td>H</td>\n",
       "      <td>M</td>\n",
       "      <td>HAND GUN</td>\n",
       "      <td>102.0</td>\n",
       "      <td>7</td>\n",
       "      <td>2017</td>\n",
       "      <td>33.9620</td>\n",
       "      <td>-118.2575</td>\n",
       "      <td>90001</td>\n",
       "    </tr>\n",
       "    <tr>\n",
       "      <th>2</th>\n",
       "      <td>4061</td>\n",
       "      <td>12</td>\n",
       "      <td>77th Street</td>\n",
       "      <td>110</td>\n",
       "      <td>110</td>\n",
       "      <td>NaN</td>\n",
       "      <td>NaN</td>\n",
       "      <td>NaN</td>\n",
       "      <td>CRIMINAL HOMICIDE</td>\n",
       "      <td>NaN</td>\n",
       "      <td>...</td>\n",
       "      <td>21.0</td>\n",
       "      <td>B</td>\n",
       "      <td>M</td>\n",
       "      <td>SEMI-AUTOMATIC PISTOL</td>\n",
       "      <td>109.0</td>\n",
       "      <td>8</td>\n",
       "      <td>2017</td>\n",
       "      <td>33.9620</td>\n",
       "      <td>-118.2575</td>\n",
       "      <td>90001</td>\n",
       "    </tr>\n",
       "    <tr>\n",
       "      <th>3</th>\n",
       "      <td>4132</td>\n",
       "      <td>12</td>\n",
       "      <td>77th Street</td>\n",
       "      <td>230</td>\n",
       "      <td>230</td>\n",
       "      <td>NaN</td>\n",
       "      <td>NaN</td>\n",
       "      <td>NaN</td>\n",
       "      <td>ASSAULT WITH DEADLY WEAPON, AGGRAVATED ASSAULT</td>\n",
       "      <td>WADSWORTH                    AV</td>\n",
       "      <td>...</td>\n",
       "      <td>NaN</td>\n",
       "      <td>W</td>\n",
       "      <td>M</td>\n",
       "      <td>REVOLVER</td>\n",
       "      <td>101.0</td>\n",
       "      <td>10</td>\n",
       "      <td>2017</td>\n",
       "      <td>33.9638</td>\n",
       "      <td>-118.2586</td>\n",
       "      <td>90001</td>\n",
       "    </tr>\n",
       "    <tr>\n",
       "      <th>4</th>\n",
       "      <td>4276</td>\n",
       "      <td>13</td>\n",
       "      <td>Newton</td>\n",
       "      <td>624</td>\n",
       "      <td>624</td>\n",
       "      <td>NaN</td>\n",
       "      <td>NaN</td>\n",
       "      <td>NaN</td>\n",
       "      <td>BATTERY - SIMPLE ASSAULT</td>\n",
       "      <td>NaN</td>\n",
       "      <td>...</td>\n",
       "      <td>67.0</td>\n",
       "      <td>H</td>\n",
       "      <td>M</td>\n",
       "      <td>UNKNOWN WEAPON/OTHER WEAPON</td>\n",
       "      <td>500.0</td>\n",
       "      <td>9</td>\n",
       "      <td>2017</td>\n",
       "      <td>33.9857</td>\n",
       "      <td>-118.2628</td>\n",
       "      <td>90001</td>\n",
       "    </tr>\n",
       "  </tbody>\n",
       "</table>\n",
       "<p>5 rows × 32 columns</p>\n",
       "</div>"
      ],
      "text/plain": [
       "   Unnamed: 0  area_id    area_name  crm_cd  crm_cd_1  crm_cd_2  crm_cd_3  \\\n",
       "0        3903       12  77th Street     110       110     998.0       NaN   \n",
       "1        4000       12  77th Street     110       110       NaN       NaN   \n",
       "2        4061       12  77th Street     110       110       NaN       NaN   \n",
       "3        4132       12  77th Street     230       230       NaN       NaN   \n",
       "4        4276       13       Newton     624       624       NaN       NaN   \n",
       "\n",
       "   crm_cd_4                                     crm_cd_desc  \\\n",
       "0       NaN                               CRIMINAL HOMICIDE   \n",
       "1       NaN                               CRIMINAL HOMICIDE   \n",
       "2       NaN                               CRIMINAL HOMICIDE   \n",
       "3       NaN  ASSAULT WITH DEADLY WEAPON, AGGRAVATED ASSAULT   \n",
       "4       NaN                        BATTERY - SIMPLE ASSAULT   \n",
       "\n",
       "                      cross_street   ...    vict_age vict_descent  vict_sex  \\\n",
       "0                              NaN   ...        25.0            B         M   \n",
       "1                              NaN   ...        26.0            H         M   \n",
       "2                              NaN   ...        21.0            B         M   \n",
       "3  WADSWORTH                    AV   ...         NaN            W         M   \n",
       "4                              NaN   ...        67.0            H         M   \n",
       "\n",
       "                   weapon_desc weapon_used_cd Month  Year Latitude  Longitude  \\\n",
       "0              UNKNOWN FIREARM          106.0     9  2017  33.9638  -118.2575   \n",
       "1                     HAND GUN          102.0     7  2017  33.9620  -118.2575   \n",
       "2        SEMI-AUTOMATIC PISTOL          109.0     8  2017  33.9620  -118.2575   \n",
       "3                     REVOLVER          101.0    10  2017  33.9638  -118.2586   \n",
       "4  UNKNOWN WEAPON/OTHER WEAPON          500.0     9  2017  33.9857  -118.2628   \n",
       "\n",
       "  Zip Code  \n",
       "0    90001  \n",
       "1    90001  \n",
       "2    90001  \n",
       "3    90001  \n",
       "4    90001  \n",
       "\n",
       "[5 rows x 32 columns]"
      ]
     },
     "execution_count": 24,
     "metadata": {},
     "output_type": "execute_result"
    }
   ],
   "source": [
    "# This code is used to generate the maps\n",
    "\n",
    "import os\n",
    "import folium\n",
    "import pandas as pd\n",
    "import numpy as np\n",
    "import json\n",
    "from folium.plugins import MarkerCluster\n",
    "from branca.utilities import split_six\n",
    "from branca.colormap import linear\n",
    "import geopandas as gpd\n",
    "\n",
    "LA_COORDINATES = (34.009, -118.2424)\n",
    "crimedata = pd.read_csv('Data/ViolentCrime2017.csv')\n",
    "#len(crimedata)=230420\n",
    "print(\"The version of Folium used is:\")\n",
    "print(folium.__version__)\n",
    "print(f\"The length of crimedata dataframe is: {len(crimedata)}\")\n",
    "crimedata.head()"
   ]
  },
  {
   "cell_type": "code",
   "execution_count": 25,
   "metadata": {},
   "outputs": [
    {
     "data": {
      "text/plain": [
       "BATTERY - SIMPLE ASSAULT                          18756\n",
       "ASSAULT WITH DEADLY WEAPON, AGGRAVATED ASSAULT    10801\n",
       "BATTERY WITH SEXUAL CONTACT                        1255\n",
       "RAPE, FORCIBLE                                     1164\n",
       "BATTERY POLICE (SIMPLE)                             540\n",
       "CRIMINAL HOMICIDE                                   278\n",
       "ASSAULT WITH DEADLY WEAPON ON POLICE OFFICER        188\n",
       "RAPE, ATTEMPTED                                     106\n",
       "BATTERY ON A FIREFIGHTER                             45\n",
       "LYNCHING                                              4\n",
       "LYNCHING - ATTEMPTED                                  2\n",
       "Name: crm_cd_desc, dtype: int64"
      ]
     },
     "execution_count": 25,
     "metadata": {},
     "output_type": "execute_result"
    }
   ],
   "source": [
    "#Describe the types of violent crimes\n",
    "crimedata[(\"crm_cd_desc\")].value_counts()"
   ]
  },
  {
   "cell_type": "code",
   "execution_count": 26,
   "metadata": {},
   "outputs": [
    {
     "name": "stdout",
     "output_type": "stream",
     "text": [
      "The number of zipcodes: 135\n"
     ]
    }
   ],
   "source": [
    "#Calculate the crime counts by zipcodes\n",
    "\n",
    "crimerate2017= crimedata.groupby(\"Zip Code\").count().reset_index()\n",
    "crimerate2017 = crimerate2017[[\"Zip Code\", \"crm_cd\"]]\n",
    "crimerate2017 = crimerate2017.rename(columns={\"crm_cd\": \"2017 Crime count\"})\n",
    "\n",
    "crimerate2017.to_csv(\"Data/crimerate2017.csv\")\n",
    "#print(f\"The number of observations in this dataframe is: {len(crimerate2017)}\")\n",
    "#crimerate2017.head()\n",
    "unique_zips = crimerate2017[(\"Zip Code\")].value_counts().count()\n",
    "#The number of zipcodes\n",
    "print(f\"The number of zipcodes: {unique_zips}\")"
   ]
  },
  {
   "cell_type": "code",
   "execution_count": 27,
   "metadata": {
    "scrolled": true
   },
   "outputs": [
    {
     "data": {
      "text/html": [
       "<div>\n",
       "<style scoped>\n",
       "    .dataframe tbody tr th:only-of-type {\n",
       "        vertical-align: middle;\n",
       "    }\n",
       "\n",
       "    .dataframe tbody tr th {\n",
       "        vertical-align: top;\n",
       "    }\n",
       "\n",
       "    .dataframe thead th {\n",
       "        text-align: right;\n",
       "    }\n",
       "</style>\n",
       "<table border=\"1\" class=\"dataframe\">\n",
       "  <thead>\n",
       "    <tr style=\"text-align: right;\">\n",
       "      <th></th>\n",
       "      <th>Zip Code</th>\n",
       "      <th>2017 Crime count</th>\n",
       "    </tr>\n",
       "  </thead>\n",
       "  <tbody>\n",
       "    <tr>\n",
       "      <th>0</th>\n",
       "      <td>90001</td>\n",
       "      <td>51</td>\n",
       "    </tr>\n",
       "    <tr>\n",
       "      <th>1</th>\n",
       "      <td>90002</td>\n",
       "      <td>524</td>\n",
       "    </tr>\n",
       "    <tr>\n",
       "      <th>2</th>\n",
       "      <td>90003</td>\n",
       "      <td>1456</td>\n",
       "    </tr>\n",
       "    <tr>\n",
       "      <th>3</th>\n",
       "      <td>90004</td>\n",
       "      <td>267</td>\n",
       "    </tr>\n",
       "    <tr>\n",
       "      <th>4</th>\n",
       "      <td>90005</td>\n",
       "      <td>260</td>\n",
       "    </tr>\n",
       "  </tbody>\n",
       "</table>\n",
       "</div>"
      ],
      "text/plain": [
       "   Zip Code  2017 Crime count\n",
       "0     90001                51\n",
       "1     90002               524\n",
       "2     90003              1456\n",
       "3     90004               267\n",
       "4     90005               260"
      ]
     },
     "execution_count": 27,
     "metadata": {},
     "output_type": "execute_result"
    }
   ],
   "source": [
    "crimerate2017.head()"
   ]
  },
  {
   "cell_type": "code",
   "execution_count": 28,
   "metadata": {},
   "outputs": [
    {
     "data": {
      "text/html": [
       "<div>\n",
       "<style scoped>\n",
       "    .dataframe tbody tr th:only-of-type {\n",
       "        vertical-align: middle;\n",
       "    }\n",
       "\n",
       "    .dataframe tbody tr th {\n",
       "        vertical-align: top;\n",
       "    }\n",
       "\n",
       "    .dataframe thead th {\n",
       "        text-align: right;\n",
       "    }\n",
       "</style>\n",
       "<table border=\"1\" class=\"dataframe\">\n",
       "  <thead>\n",
       "    <tr style=\"text-align: right;\">\n",
       "      <th></th>\n",
       "      <th>geoid</th>\n",
       "      <th>Zip Code</th>\n",
       "      <th>Total Population</th>\n",
       "      <th>Not Hispanic</th>\n",
       "      <th>NonHisp White</th>\n",
       "      <th>NonHisp Black</th>\n",
       "      <th>Hispanic</th>\n",
       "      <th>Hisp White</th>\n",
       "      <th>Hisp Black</th>\n",
       "    </tr>\n",
       "  </thead>\n",
       "  <tbody>\n",
       "    <tr>\n",
       "      <th>0</th>\n",
       "      <td>86000US90001</td>\n",
       "      <td>90001</td>\n",
       "      <td>57942</td>\n",
       "      <td>5719</td>\n",
       "      <td>435</td>\n",
       "      <td>4936</td>\n",
       "      <td>52223</td>\n",
       "      <td>20376</td>\n",
       "      <td>217</td>\n",
       "    </tr>\n",
       "    <tr>\n",
       "      <th>1</th>\n",
       "      <td>86000US90002</td>\n",
       "      <td>90002</td>\n",
       "      <td>51826</td>\n",
       "      <td>12299</td>\n",
       "      <td>407</td>\n",
       "      <td>11002</td>\n",
       "      <td>39527</td>\n",
       "      <td>19166</td>\n",
       "      <td>186</td>\n",
       "    </tr>\n",
       "    <tr>\n",
       "      <th>2</th>\n",
       "      <td>86000US90003</td>\n",
       "      <td>90003</td>\n",
       "      <td>70208</td>\n",
       "      <td>16578</td>\n",
       "      <td>433</td>\n",
       "      <td>15606</td>\n",
       "      <td>53630</td>\n",
       "      <td>17681</td>\n",
       "      <td>600</td>\n",
       "    </tr>\n",
       "    <tr>\n",
       "      <th>3</th>\n",
       "      <td>86000US90004</td>\n",
       "      <td>90004</td>\n",
       "      <td>63095</td>\n",
       "      <td>31130</td>\n",
       "      <td>11187</td>\n",
       "      <td>2296</td>\n",
       "      <td>31965</td>\n",
       "      <td>14424</td>\n",
       "      <td>109</td>\n",
       "    </tr>\n",
       "    <tr>\n",
       "      <th>4</th>\n",
       "      <td>86000US90005</td>\n",
       "      <td>90005</td>\n",
       "      <td>39338</td>\n",
       "      <td>19139</td>\n",
       "      <td>3040</td>\n",
       "      <td>2027</td>\n",
       "      <td>20199</td>\n",
       "      <td>4431</td>\n",
       "      <td>186</td>\n",
       "    </tr>\n",
       "  </tbody>\n",
       "</table>\n",
       "</div>"
      ],
      "text/plain": [
       "          geoid Zip Code  Total Population  Not Hispanic  NonHisp White  \\\n",
       "0  86000US90001    90001             57942          5719            435   \n",
       "1  86000US90002    90002             51826         12299            407   \n",
       "2  86000US90003    90003             70208         16578            433   \n",
       "3  86000US90004    90004             63095         31130          11187   \n",
       "4  86000US90005    90005             39338         19139           3040   \n",
       "\n",
       "   NonHisp Black  Hispanic  Hisp White  Hisp Black  \n",
       "0           4936     52223       20376         217  \n",
       "1          11002     39527       19166         186  \n",
       "2          15606     53630       17681         600  \n",
       "3           2296     31965       14424         109  \n",
       "4           2027     20199        4431         186  "
      ]
     },
     "execution_count": 28,
     "metadata": {},
     "output_type": "execute_result"
    }
   ],
   "source": [
    "#Merge it with the Census Data to be able to calculate the violent crime rates, population density, etc. \n",
    "#Merge how = inner\n",
    "#Left dataframe = crimerate2017\n",
    "#Right dataframe = acs2016_5yr_B03002_Race.csv\n",
    "census = pd.read_csv(\"Data/acs2016_5yr_B03002_Race.csv\")\n",
    "len(census)\n",
    "\n",
    "\n",
    "#Delete the first 5 rows\n",
    "census = census.drop(census.index[[0,1,2,3,4]])\n",
    "census = census.reset_index()\n",
    "del census['index']\n",
    "\n",
    "census = census.rename(columns = {'name':'Zip Code'})\n",
    "len(census)\n",
    "\n",
    "\n",
    "## Keep only the variables of interest\n",
    "census = census[[\"geoid\",\"Zip Code\", \"B03002001\", \"B03002002\", \"B03002003\", \"B03002004\",\"B03002012\", \"B03002013\",\"B03002014\"]]\n",
    "\n",
    "#Rename some columns\n",
    "\n",
    "census = census.rename(columns = {'B03002001':'Total Population'})\n",
    "census = census.rename(columns = {'B03002002':'Not Hispanic'})\n",
    "census = census.rename(columns = {'B03002003':'NonHisp White'})\n",
    "census = census.rename(columns = {'B03002004':'NonHisp Black'})\n",
    "census = census.rename(columns = {'B03002012':'Hispanic'})\n",
    "census = census.rename(columns = {'B03002013':'Hisp White'})\n",
    "census = census.rename(columns = {'B03002014':'Hisp Black'})\n",
    "\n",
    "census.head()"
   ]
  },
  {
   "cell_type": "code",
   "execution_count": 29,
   "metadata": {},
   "outputs": [],
   "source": [
    "#census.dtypes"
   ]
  },
  {
   "cell_type": "code",
   "execution_count": 30,
   "metadata": {},
   "outputs": [],
   "source": [
    "#crimerate2017.dtypes"
   ]
  },
  {
   "cell_type": "code",
   "execution_count": 31,
   "metadata": {},
   "outputs": [
    {
     "data": {
      "text/plain": [
       "geoid               object\n",
       "Zip Code            object\n",
       "Total Population     int64\n",
       "Not Hispanic         int64\n",
       "NonHisp White        int64\n",
       "NonHisp Black        int64\n",
       "Hispanic             int64\n",
       "Hisp White           int64\n",
       "Hisp Black           int64\n",
       "Zip Code2            int64\n",
       "dtype: object"
      ]
     },
     "execution_count": 31,
     "metadata": {},
     "output_type": "execute_result"
    }
   ],
   "source": [
    "#Convert Zip in Census to int\n",
    "census[\"Zip Code2\"] = census[\"Zip Code\"].astype(str).astype(int)\n",
    "census.dtypes"
   ]
  },
  {
   "cell_type": "code",
   "execution_count": 32,
   "metadata": {},
   "outputs": [
    {
     "data": {
      "text/plain": [
       "geoid               object\n",
       "Total Population     int64\n",
       "Not Hispanic         int64\n",
       "NonHisp White        int64\n",
       "NonHisp Black        int64\n",
       "Hispanic             int64\n",
       "Hisp White           int64\n",
       "Hisp Black           int64\n",
       "Zip Code2            int64\n",
       "dtype: object"
      ]
     },
     "execution_count": 32,
     "metadata": {},
     "output_type": "execute_result"
    }
   ],
   "source": [
    "del census['Zip Code']\n",
    "census.dtypes"
   ]
  },
  {
   "cell_type": "code",
   "execution_count": 33,
   "metadata": {},
   "outputs": [],
   "source": [
    "census = census.rename(columns = {'Zip Code2':'Zip Code'})"
   ]
  },
  {
   "cell_type": "code",
   "execution_count": 34,
   "metadata": {},
   "outputs": [],
   "source": [
    "#MERGE\n",
    "crime_census = pd.merge(crimerate2017,census,how='inner', on=\"Zip Code\")"
   ]
  },
  {
   "cell_type": "code",
   "execution_count": 35,
   "metadata": {},
   "outputs": [
    {
     "name": "stdout",
     "output_type": "stream",
     "text": [
      "135\n"
     ]
    },
    {
     "data": {
      "text/html": [
       "<div>\n",
       "<style scoped>\n",
       "    .dataframe tbody tr th:only-of-type {\n",
       "        vertical-align: middle;\n",
       "    }\n",
       "\n",
       "    .dataframe tbody tr th {\n",
       "        vertical-align: top;\n",
       "    }\n",
       "\n",
       "    .dataframe thead th {\n",
       "        text-align: right;\n",
       "    }\n",
       "</style>\n",
       "<table border=\"1\" class=\"dataframe\">\n",
       "  <thead>\n",
       "    <tr style=\"text-align: right;\">\n",
       "      <th></th>\n",
       "      <th>Zip Code</th>\n",
       "      <th>2017 Crime count</th>\n",
       "      <th>geoid</th>\n",
       "      <th>Total Population</th>\n",
       "      <th>Not Hispanic</th>\n",
       "      <th>NonHisp White</th>\n",
       "      <th>NonHisp Black</th>\n",
       "      <th>Hispanic</th>\n",
       "      <th>Hisp White</th>\n",
       "      <th>Hisp Black</th>\n",
       "    </tr>\n",
       "  </thead>\n",
       "  <tbody>\n",
       "    <tr>\n",
       "      <th>0</th>\n",
       "      <td>90001</td>\n",
       "      <td>51</td>\n",
       "      <td>86000US90001</td>\n",
       "      <td>57942</td>\n",
       "      <td>5719</td>\n",
       "      <td>435</td>\n",
       "      <td>4936</td>\n",
       "      <td>52223</td>\n",
       "      <td>20376</td>\n",
       "      <td>217</td>\n",
       "    </tr>\n",
       "    <tr>\n",
       "      <th>1</th>\n",
       "      <td>90002</td>\n",
       "      <td>524</td>\n",
       "      <td>86000US90002</td>\n",
       "      <td>51826</td>\n",
       "      <td>12299</td>\n",
       "      <td>407</td>\n",
       "      <td>11002</td>\n",
       "      <td>39527</td>\n",
       "      <td>19166</td>\n",
       "      <td>186</td>\n",
       "    </tr>\n",
       "    <tr>\n",
       "      <th>2</th>\n",
       "      <td>90003</td>\n",
       "      <td>1456</td>\n",
       "      <td>86000US90003</td>\n",
       "      <td>70208</td>\n",
       "      <td>16578</td>\n",
       "      <td>433</td>\n",
       "      <td>15606</td>\n",
       "      <td>53630</td>\n",
       "      <td>17681</td>\n",
       "      <td>600</td>\n",
       "    </tr>\n",
       "    <tr>\n",
       "      <th>3</th>\n",
       "      <td>90004</td>\n",
       "      <td>267</td>\n",
       "      <td>86000US90004</td>\n",
       "      <td>63095</td>\n",
       "      <td>31130</td>\n",
       "      <td>11187</td>\n",
       "      <td>2296</td>\n",
       "      <td>31965</td>\n",
       "      <td>14424</td>\n",
       "      <td>109</td>\n",
       "    </tr>\n",
       "    <tr>\n",
       "      <th>4</th>\n",
       "      <td>90005</td>\n",
       "      <td>260</td>\n",
       "      <td>86000US90005</td>\n",
       "      <td>39338</td>\n",
       "      <td>19139</td>\n",
       "      <td>3040</td>\n",
       "      <td>2027</td>\n",
       "      <td>20199</td>\n",
       "      <td>4431</td>\n",
       "      <td>186</td>\n",
       "    </tr>\n",
       "  </tbody>\n",
       "</table>\n",
       "</div>"
      ],
      "text/plain": [
       "   Zip Code  2017 Crime count         geoid  Total Population  Not Hispanic  \\\n",
       "0     90001                51  86000US90001             57942          5719   \n",
       "1     90002               524  86000US90002             51826         12299   \n",
       "2     90003              1456  86000US90003             70208         16578   \n",
       "3     90004               267  86000US90004             63095         31130   \n",
       "4     90005               260  86000US90005             39338         19139   \n",
       "\n",
       "   NonHisp White  NonHisp Black  Hispanic  Hisp White  Hisp Black  \n",
       "0            435           4936     52223       20376         217  \n",
       "1            407          11002     39527       19166         186  \n",
       "2            433          15606     53630       17681         600  \n",
       "3          11187           2296     31965       14424         109  \n",
       "4           3040           2027     20199        4431         186  "
      ]
     },
     "execution_count": 35,
     "metadata": {},
     "output_type": "execute_result"
    }
   ],
   "source": [
    "print(len(crime_census))\n",
    "crime_census.to_csv(\"Data/crime_census.csv\")\n",
    "crime_census.head()"
   ]
  },
  {
   "cell_type": "code",
   "execution_count": 36,
   "metadata": {},
   "outputs": [
    {
     "name": "stdout",
     "output_type": "stream",
     "text": [
      "The number of observations in this dataframe is: 135\n",
      "The number of observations in this dataframe (after the removal) is: 132\n"
     ]
    },
    {
     "data": {
      "text/html": [
       "<div>\n",
       "<style scoped>\n",
       "    .dataframe tbody tr th:only-of-type {\n",
       "        vertical-align: middle;\n",
       "    }\n",
       "\n",
       "    .dataframe tbody tr th {\n",
       "        vertical-align: top;\n",
       "    }\n",
       "\n",
       "    .dataframe thead th {\n",
       "        text-align: right;\n",
       "    }\n",
       "</style>\n",
       "<table border=\"1\" class=\"dataframe\">\n",
       "  <thead>\n",
       "    <tr style=\"text-align: right;\">\n",
       "      <th></th>\n",
       "      <th>Zip Code</th>\n",
       "      <th>2017 Crime count</th>\n",
       "      <th>geoid</th>\n",
       "      <th>Total Population</th>\n",
       "      <th>Not Hispanic</th>\n",
       "      <th>NonHisp White</th>\n",
       "      <th>NonHisp Black</th>\n",
       "      <th>Hispanic</th>\n",
       "      <th>Hisp White</th>\n",
       "      <th>Hisp Black</th>\n",
       "      <th>Percent NonHisp White</th>\n",
       "      <th>Percent NonHisp Black</th>\n",
       "      <th>Violent Crime Rate</th>\n",
       "    </tr>\n",
       "  </thead>\n",
       "  <tbody>\n",
       "    <tr>\n",
       "      <th>0</th>\n",
       "      <td>90001</td>\n",
       "      <td>51</td>\n",
       "      <td>86000US90001</td>\n",
       "      <td>57942</td>\n",
       "      <td>5719</td>\n",
       "      <td>435</td>\n",
       "      <td>4936</td>\n",
       "      <td>52223</td>\n",
       "      <td>20376</td>\n",
       "      <td>217</td>\n",
       "      <td>0.750751</td>\n",
       "      <td>8.518864</td>\n",
       "      <td>88.019054</td>\n",
       "    </tr>\n",
       "    <tr>\n",
       "      <th>1</th>\n",
       "      <td>90002</td>\n",
       "      <td>524</td>\n",
       "      <td>86000US90002</td>\n",
       "      <td>51826</td>\n",
       "      <td>12299</td>\n",
       "      <td>407</td>\n",
       "      <td>11002</td>\n",
       "      <td>39527</td>\n",
       "      <td>19166</td>\n",
       "      <td>186</td>\n",
       "      <td>0.785320</td>\n",
       "      <td>21.228727</td>\n",
       "      <td>1011.075522</td>\n",
       "    </tr>\n",
       "    <tr>\n",
       "      <th>2</th>\n",
       "      <td>90003</td>\n",
       "      <td>1456</td>\n",
       "      <td>86000US90003</td>\n",
       "      <td>70208</td>\n",
       "      <td>16578</td>\n",
       "      <td>433</td>\n",
       "      <td>15606</td>\n",
       "      <td>53630</td>\n",
       "      <td>17681</td>\n",
       "      <td>600</td>\n",
       "      <td>0.616739</td>\n",
       "      <td>22.228236</td>\n",
       "      <td>2073.837739</td>\n",
       "    </tr>\n",
       "    <tr>\n",
       "      <th>3</th>\n",
       "      <td>90004</td>\n",
       "      <td>267</td>\n",
       "      <td>86000US90004</td>\n",
       "      <td>63095</td>\n",
       "      <td>31130</td>\n",
       "      <td>11187</td>\n",
       "      <td>2296</td>\n",
       "      <td>31965</td>\n",
       "      <td>14424</td>\n",
       "      <td>109</td>\n",
       "      <td>17.730407</td>\n",
       "      <td>3.638957</td>\n",
       "      <td>423.171408</td>\n",
       "    </tr>\n",
       "    <tr>\n",
       "      <th>4</th>\n",
       "      <td>90005</td>\n",
       "      <td>260</td>\n",
       "      <td>86000US90005</td>\n",
       "      <td>39338</td>\n",
       "      <td>19139</td>\n",
       "      <td>3040</td>\n",
       "      <td>2027</td>\n",
       "      <td>20199</td>\n",
       "      <td>4431</td>\n",
       "      <td>186</td>\n",
       "      <td>7.727897</td>\n",
       "      <td>5.152778</td>\n",
       "      <td>660.938533</td>\n",
       "    </tr>\n",
       "  </tbody>\n",
       "</table>\n",
       "</div>"
      ],
      "text/plain": [
       "   Zip Code  2017 Crime count         geoid  Total Population  Not Hispanic  \\\n",
       "0     90001                51  86000US90001             57942          5719   \n",
       "1     90002               524  86000US90002             51826         12299   \n",
       "2     90003              1456  86000US90003             70208         16578   \n",
       "3     90004               267  86000US90004             63095         31130   \n",
       "4     90005               260  86000US90005             39338         19139   \n",
       "\n",
       "   NonHisp White  NonHisp Black  Hispanic  Hisp White  Hisp Black  \\\n",
       "0            435           4936     52223       20376         217   \n",
       "1            407          11002     39527       19166         186   \n",
       "2            433          15606     53630       17681         600   \n",
       "3          11187           2296     31965       14424         109   \n",
       "4           3040           2027     20199        4431         186   \n",
       "\n",
       "   Percent NonHisp White  Percent NonHisp Black  Violent Crime Rate  \n",
       "0               0.750751               8.518864           88.019054  \n",
       "1               0.785320              21.228727         1011.075522  \n",
       "2               0.616739              22.228236         2073.837739  \n",
       "3              17.730407               3.638957          423.171408  \n",
       "4               7.727897               5.152778          660.938533  "
      ]
     },
     "execution_count": 36,
     "metadata": {},
     "output_type": "execute_result"
    }
   ],
   "source": [
    "#Calculate the rates\n",
    "crime_census[\"Percent NonHisp White\"]= (crime_census[\"NonHisp White\"]/crime_census[\"Total Population\"])*100\n",
    "crime_census[\"Percent NonHisp Black\"]= (crime_census[\"NonHisp Black\"]/crime_census[\"Total Population\"])*100\n",
    "crime_census[\"Violent Crime Rate\"] = (crime_census[\"2017 Crime count\"]/crime_census[\"Total Population\"])*100000\n",
    "\n",
    "print(f\"The number of observations in this dataframe is: {len(crime_census)}\")\n",
    "crime_census1 = crime_census[crime_census[(\"Total Population\")]!=0]\n",
    "crime_census1[(\"Percent NonHisp Black\")].isna()\n",
    "crime_census1\n",
    "crime_census1.to_csv(\"Data/crime_census_rates.csv\")\n",
    "print(f\"The number of observations in this dataframe (after the removal) is: {len(crime_census1)}\")\n",
    "crime_census1.head()"
   ]
  },
  {
   "cell_type": "code",
   "execution_count": 37,
   "metadata": {},
   "outputs": [
    {
     "data": {
      "text/plain": [
       "count    132.000000\n",
       "mean      35.235826\n",
       "std       26.648340\n",
       "min        0.594681\n",
       "25%        7.897190\n",
       "50%       32.575811\n",
       "75%       60.336687\n",
       "max       84.916045\n",
       "Name: Percent NonHisp White, dtype: float64"
      ]
     },
     "execution_count": 37,
     "metadata": {},
     "output_type": "execute_result"
    }
   ],
   "source": [
    "crime_census1[\"Percent NonHisp White\"].describe()"
   ]
  },
  {
   "cell_type": "code",
   "execution_count": 38,
   "metadata": {},
   "outputs": [],
   "source": [
    "#grouping the counts by area name\n",
    "#crimedata[\"area_name\"].value_counts()"
   ]
  },
  {
   "cell_type": "markdown",
   "metadata": {},
   "source": [
    "Practice Maps using Folium"
   ]
  },
  {
   "cell_type": "code",
   "execution_count": 39,
   "metadata": {
    "scrolled": true
   },
   "outputs": [],
   "source": [
    "#This map pops up the lat - long information of the crime locations\n",
    "# Declare\n",
    "#MAX_RECORDS = 100\n",
    "\n",
    "# Create empty map zoomed in on San Francisco\n",
    "#map = folium.Map(location=LA_COORDINATES, zoom_start=12)\n",
    "\n",
    "# Add a marker for every record in the filtered data, use a clustered view\n",
    "\n",
    "#for row in crimedata[0:MAX_RECORDS].iterrows():\n",
    "    #folium.Marker(location = [row[1][\"Latitude\"],row[1][\"Longitude\"]],icon=folium.Icon(color='blue', icon='info-sign')).add_to(map)\n",
    "    #map.add_child(folium.LatLngPopup())\n",
    "\n",
    "#Display map\n",
    "#display(map)\n",
    "\n",
    "#Save map\n",
    "#map.save('Results/index1.html')"
   ]
  },
  {
   "cell_type": "code",
   "execution_count": 40,
   "metadata": {
    "scrolled": true
   },
   "outputs": [],
   "source": [
    "#This map pops up the description of the crime\n",
    "\n",
    "#MAX_RECORDS = 50\n",
    "\n",
    "# Create empty map zoomed in on San Francisco\n",
    "#map = folium.Map(location=LA_COORDINATES, zoom_start=12)\n",
    "\n",
    "# Add a marker for every record in the filtered data, use a clustered view\n",
    "\n",
    "#for row in crimedata[0:MAX_RECORDS].iterrows():\n",
    "    #popup = row[1][\"crm_cd_desc\"]\n",
    "    #folium.Marker(location = [row[1][\"Latitude\"],row[1][\"Longitude\"]],popup = popup, icon=folium.Icon(color='green', icon='info-sign')).add_to(map)\n",
    "#Display map\n",
    "#display(map)\n",
    "\n",
    "#Save map\n",
    "#map.save('Results/index2.html')"
   ]
  },
  {
   "cell_type": "code",
   "execution_count": 41,
   "metadata": {
    "scrolled": true
   },
   "outputs": [],
   "source": [
    "#This map creates clustered markers\n",
    "\n",
    "#MAX_RECORDS = 500\n",
    "\n",
    "# Create empty map zoomed in on San Francisco\n",
    "#map = folium.Map(location=LA_COORDINATES, zoom_start=12)\n",
    "\n",
    "#Add a clustered marker\n",
    "#marker_cluster = folium.plugins.MarkerCluster().add_to(map)\n",
    "\n",
    "# Add a marker for every record in the filtered data, use a clustered view\n",
    "\n",
    "#for row in crimedata[0:MAX_RECORDS].iterrows():\n",
    "    #popup = row[1][\"crm_cd_desc\"]\n",
    "    #folium.Marker(location = [row[1][\"Latitude\"],row[1][\"Longitude\"]],popup = popup, icon=folium.Icon(color='red', icon='info-sign')).add_to(marker_cluster)\n",
    "#Save map\n",
    "#map.save('Results/index3.html')\n",
    "#map"
   ]
  },
  {
   "cell_type": "code",
   "execution_count": 42,
   "metadata": {},
   "outputs": [],
   "source": [
    "#IGNORE FOR NOW\n",
    "\n",
    "# definition of the boundaries in the map\n",
    "#zip_geo = r\"acs2016_5yr_B17001_16000US0648816.geojson\"\n",
    "\n",
    "#calculating total number of incidents per district\n",
    "#crimedata2 = pd.DataFrame(crimedata['Zip Code'].value_counts())\n",
    "#crimedata2.to_json(\"crimeagg.json\")\n",
    "#crimedata2 = crimedata2.reset_index()\n",
    "#crimedata2.columns = ['Zip Code', 'Crime Count']\n",
    "#crimedata2.head()\n",
    "\n",
    "# creation of the choropleth\n",
    "#map = folium.Map(location=LA_COORDINATES, zoom_start=12)\n",
    "#folium.GeoJson(zip_geo, name = 'crimeagg.json').add_to(map)\n",
    "#map.save('Results/index4.html')"
   ]
  },
  {
   "cell_type": "code",
   "execution_count": null,
   "metadata": {},
   "outputs": [],
   "source": []
  },
  {
   "cell_type": "code",
   "execution_count": 43,
   "metadata": {},
   "outputs": [],
   "source": [
    "#Combine the boundary with the clustered markers\n",
    "\n",
    "#MAX_RECORDS = 500\n",
    "\n",
    "# create empty map zoomed in on Los Angeles\n",
    "#map = folium.Map(location=LA_COORDINATES, zoom_start=12)\n",
    "\n",
    "#Add a clustered marker\n",
    "#marker_cluster = folium.plugins.MarkerCluster().add_to(map)\n",
    "\n",
    "#for row in crimedata[0:MAX_RECORDS].iterrows():\n",
    "    #popup = row[1][\"crm_cd_desc\"]\n",
    "    #folium.Marker(location = [row[1][\"Latitude\"],row[1][\"Longitude\"]],popup = popup, icon=folium.Icon(color='red', icon='info-sign')).add_to(marker_cluster)\n",
    "\n",
    "#folium.GeoJson(zip_geo, name = 'crimeagg.json').add_to(map)\n",
    "#folium.LayerControl().add_to(map)\n",
    "#map.save('Results/index5.html')"
   ]
  },
  {
   "cell_type": "code",
   "execution_count": 44,
   "metadata": {},
   "outputs": [],
   "source": [
    "#Now try a map with meaningful information on the popups. That is not just one variable, but a bunch of information in the popup\n",
    "#Combine the boundary with the clustered markers\n",
    "\n",
    "#MAX_RECORDS = 500\n",
    "\n",
    "# create empty map zoomed in on Los Angeles\n",
    "#map = folium.Map(location=LA_COORDINATES, zoom_start=12)\n",
    "\n",
    "#Add a clustered marker\n",
    "#marker_cluster = folium.plugins.MarkerCluster().add_to(map)\n",
    "\n",
    "#for row in crimedata[0:MAX_RECORDS].iterrows():\n",
    "    #popup = row[1][\"crm_cd_desc\"]\n",
    "    #folium.Marker(location = [row[1][\"Latitude\"],row[1][\"Longitude\"]],popup = popup, icon=folium.Icon(color='red', icon='info-sign')).add_to(marker_cluster)\n",
    "\n",
    "#folium.GeoJson(zip_geo, name = 'crimeagg.json').add_to(map)\n",
    "#folium.LayerControl().add_to(map)\n",
    "#map.save('Results/index6.html')"
   ]
  },
  {
   "cell_type": "code",
   "execution_count": 45,
   "metadata": {},
   "outputs": [],
   "source": [
    "#Create the Choropleth maps based on this reference: \n",
    "#MAX_RECORDS = 500\n",
    "\n",
    "#zip_geo = r\"zip-code-tabulation-areas-2012.geojson\"\n",
    "#crime_rate = os.path.join('data', 'crime_census.csv')\n",
    "\n",
    "#map = folium.Map(location=LA_COORDINATES, zoom_start=12)\n",
    "\n",
    "#map.choropleth(\n",
    "    #geo_data=zip_geo,data=crime_census,\n",
    "    #columns=['Zip Code', 'Percent NonHisp Black'],\n",
    "    #key_on='feature.properties.external_id',\n",
    "    #fill_color='YlGn',\n",
    "    #threshold_scale=[0, 20, 30, 40, 50, 60],\n",
    "    #highlight=True)\n",
    "#folium.LayerControl().add_to(map)\n",
    "#map.save('Results/index7.html')"
   ]
  },
  {
   "cell_type": "code",
   "execution_count": 46,
   "metadata": {},
   "outputs": [],
   "source": [
    "#Create the Choropleth maps based on this reference: \n",
    "#MAX_RECORDS = 500\n",
    "\n",
    "#zip_geo = r\"acs2016_5yr_B17001_16000US0648816.geojson\"\n",
    "\n",
    "# create empty map zoomed in on Los Angeles\n",
    "#map = folium.Map(location=LA_COORDINATES, zoom_start=12)\n",
    "\n",
    "#Add a clustered marker\n",
    "#marker_cluster = folium.plugins.MarkerCluster().add_to(map)\n",
    "\n",
    "# Define your threshold scale\n",
    "#threshold_scale = split_six(crime_census['Percent NonHisp Black'])\n",
    "\n",
    "#for row in crimedata[0:MAX_RECORDS].iterrows():\n",
    "    #popup = row[1][\"crm_cd_desc\"]\n",
    "    #folium.Marker(location = [row[1][\"Latitude\"],row[1][\"Longitude\"]],popup = popup, icon=folium.Icon(color='red', icon='info-sign')).add_to(marker_cluster)\n",
    "\n",
    "#folium.GeoJson(zip_geo, name = 'crimeagg.json').add_to(map)\n",
    "#folium.LayerControl().add_to(map)\n",
    "#map.save('Results/index6.html')\n",
    "\n",
    "#map.choropleth(\n",
    "    #geo_data=zip_geo,data=crime_census,\n",
    "    #columns=['Zip Code', 'Percent NonHisp Black'],\n",
    "    #key_on='feature.properties.external_id',\n",
    "    #fill_color='YlGn',\n",
    "    #threshold_scale=threshold_scale,\n",
    "    #highlight=False, \n",
    "    #reset = True)\n",
    "#folium.LayerControl().add_to(map)\n",
    "#map.save('Results/index8.html')"
   ]
  },
  {
   "cell_type": "code",
   "execution_count": 49,
   "metadata": {},
   "outputs": [],
   "source": [
    "## LAST TRY with the Choropleth\n",
    "#1. Import the geojson file\n",
    "\n",
    "la_shape = os.path.join('Data','zip-code-tabulation-areas-2012.json')\n",
    "geo_json_data = json.load(open(la_shape))\n",
    "\n",
    "MAX_RECORDS = 33139\n",
    "#Create an empty map for the city of LA\n",
    "\n",
    "map = folium.Map(location=LA_COORDINATES, zoom_start=12)\n",
    "\n",
    "#Add a clustered marker\n",
    "marker_cluster = folium.plugins.MarkerCluster().add_to(map)\n",
    "\n",
    "for row in crimedata[0:MAX_RECORDS].iterrows():\n",
    "    popup = row[1][\"crm_cd_desc\"]\n",
    "    folium.Marker(location = [row[1][\"Latitude\"],row[1][\"Longitude\"]],popup = popup, icon=folium.Icon(color='red', icon='info-sign')).add_to(marker_cluster)\n",
    "\n",
    "#Lay the shapefile on this empty map\n",
    "#folium.GeoJson(geo_json_data).add_to(map)\n",
    "#map.choropleth(\n",
    "    #geo_data=geo_json_data,\n",
    "    #data=demographics,\n",
    "    #columns=['Zip Code', 'Percent NonHisp Black'],\n",
    "    #key_on='features.properties.external_id',\n",
    "    #fill_color='YlGn',)\n",
    "    \n",
    "folium.LayerControl().add_to(map)\n",
    "map.save('Results/trial2.html')"
   ]
  },
  {
   "cell_type": "code",
   "execution_count": 25,
   "metadata": {},
   "outputs": [
    {
     "data": {
      "text/plain": [
       "132"
      ]
     },
     "execution_count": 25,
     "metadata": {},
     "output_type": "execute_result"
    }
   ],
   "source": [
    "#Now draw a choropleth of percentage of black in the LA by zipcodes\n",
    "#First, load the data that has the information about the percent of blacks\n",
    "\n",
    "demographics = pd.read_csv(\"Data/crime_census_rates.csv\")\n",
    "len(demographics)"
   ]
  },
  {
   "cell_type": "code",
   "execution_count": 26,
   "metadata": {},
   "outputs": [
    {
     "data": {
      "text/plain": [
       "Unnamed: 0                 int64\n",
       "Zip Code                   int64\n",
       "2017 Crime count           int64\n",
       "geoid                     object\n",
       "Total Population           int64\n",
       "Not Hispanic               int64\n",
       "NonHisp White              int64\n",
       "NonHisp Black              int64\n",
       "Hispanic                   int64\n",
       "Hisp White                 int64\n",
       "Hisp Black                 int64\n",
       "Percent NonHisp White    float64\n",
       "Percent NonHisp Black    float64\n",
       "Violent Crime Rate       float64\n",
       "dtype: object"
      ]
     },
     "execution_count": 26,
     "metadata": {},
     "output_type": "execute_result"
    }
   ],
   "source": [
    "demographics.dtypes"
   ]
  },
  {
   "cell_type": "code",
   "execution_count": 27,
   "metadata": {},
   "outputs": [
    {
     "data": {
      "text/plain": [
       "count    132.000000\n",
       "mean       9.540806\n",
       "std       14.403086\n",
       "min        0.254777\n",
       "25%        2.539733\n",
       "50%        4.270567\n",
       "75%        8.096086\n",
       "max       77.302402\n",
       "Name: Percent NonHisp Black, dtype: float64"
      ]
     },
     "execution_count": 27,
     "metadata": {},
     "output_type": "execute_result"
    }
   ],
   "source": [
    "#Get the varible max and min\n",
    "demographics[(\"Percent NonHisp Black\")].describe()"
   ]
  },
  {
   "cell_type": "code",
   "execution_count": 28,
   "metadata": {},
   "outputs": [
    {
     "name": "stdout",
     "output_type": "stream",
     "text": [
      "#dcf2f4\n"
     ]
    },
    {
     "data": {
      "text/html": [
       "<svg height=\"50\" width=\"500\"><line x1=\"0\" y1=\"0\" x2=\"0\" y2=\"20\" style=\"stroke:#e5f5f9;stroke-width:3;\" /><line x1=\"1\" y1=\"0\" x2=\"1\" y2=\"20\" style=\"stroke:#e5f5f9;stroke-width:3;\" /><line x1=\"2\" y1=\"0\" x2=\"2\" y2=\"20\" style=\"stroke:#e5f5f9;stroke-width:3;\" /><line x1=\"3\" y1=\"0\" x2=\"3\" y2=\"20\" style=\"stroke:#e4f5f9;stroke-width:3;\" /><line x1=\"4\" y1=\"0\" x2=\"4\" y2=\"20\" style=\"stroke:#e4f5f9;stroke-width:3;\" /><line x1=\"5\" y1=\"0\" x2=\"5\" y2=\"20\" style=\"stroke:#e4f5f9;stroke-width:3;\" /><line x1=\"6\" y1=\"0\" x2=\"6\" y2=\"20\" style=\"stroke:#e4f5f8;stroke-width:3;\" /><line x1=\"7\" y1=\"0\" x2=\"7\" y2=\"20\" style=\"stroke:#e3f5f8;stroke-width:3;\" /><line x1=\"8\" y1=\"0\" x2=\"8\" y2=\"20\" style=\"stroke:#e3f5f8;stroke-width:3;\" /><line x1=\"9\" y1=\"0\" x2=\"9\" y2=\"20\" style=\"stroke:#e3f4f8;stroke-width:3;\" /><line x1=\"10\" y1=\"0\" x2=\"10\" y2=\"20\" style=\"stroke:#e2f4f8;stroke-width:3;\" /><line x1=\"11\" y1=\"0\" x2=\"11\" y2=\"20\" style=\"stroke:#e2f4f7;stroke-width:3;\" /><line x1=\"12\" y1=\"0\" x2=\"12\" y2=\"20\" style=\"stroke:#e2f4f7;stroke-width:3;\" /><line x1=\"13\" y1=\"0\" x2=\"13\" y2=\"20\" style=\"stroke:#e1f4f7;stroke-width:3;\" /><line x1=\"14\" y1=\"0\" x2=\"14\" y2=\"20\" style=\"stroke:#e1f4f7;stroke-width:3;\" /><line x1=\"15\" y1=\"0\" x2=\"15\" y2=\"20\" style=\"stroke:#e1f4f7;stroke-width:3;\" /><line x1=\"16\" y1=\"0\" x2=\"16\" y2=\"20\" style=\"stroke:#e1f4f6;stroke-width:3;\" /><line x1=\"17\" y1=\"0\" x2=\"17\" y2=\"20\" style=\"stroke:#e0f3f6;stroke-width:3;\" /><line x1=\"18\" y1=\"0\" x2=\"18\" y2=\"20\" style=\"stroke:#e0f3f6;stroke-width:3;\" /><line x1=\"19\" y1=\"0\" x2=\"19\" y2=\"20\" style=\"stroke:#e0f3f6;stroke-width:3;\" /><line x1=\"20\" y1=\"0\" x2=\"20\" y2=\"20\" style=\"stroke:#dff3f6;stroke-width:3;\" /><line x1=\"21\" y1=\"0\" x2=\"21\" y2=\"20\" style=\"stroke:#dff3f5;stroke-width:3;\" /><line x1=\"22\" y1=\"0\" x2=\"22\" y2=\"20\" style=\"stroke:#dff3f5;stroke-width:3;\" /><line x1=\"23\" y1=\"0\" x2=\"23\" y2=\"20\" style=\"stroke:#def3f5;stroke-width:3;\" /><line x1=\"24\" y1=\"0\" x2=\"24\" y2=\"20\" style=\"stroke:#def3f5;stroke-width:3;\" /><line x1=\"25\" y1=\"0\" x2=\"25\" y2=\"20\" style=\"stroke:#def3f5;stroke-width:3;\" /><line x1=\"26\" y1=\"0\" x2=\"26\" y2=\"20\" style=\"stroke:#ddf2f4;stroke-width:3;\" /><line x1=\"27\" y1=\"0\" x2=\"27\" y2=\"20\" style=\"stroke:#ddf2f4;stroke-width:3;\" /><line x1=\"28\" y1=\"0\" x2=\"28\" y2=\"20\" style=\"stroke:#ddf2f4;stroke-width:3;\" /><line x1=\"29\" y1=\"0\" x2=\"29\" y2=\"20\" style=\"stroke:#ddf2f4;stroke-width:3;\" /><line x1=\"30\" y1=\"0\" x2=\"30\" y2=\"20\" style=\"stroke:#dcf2f4;stroke-width:3;\" /><line x1=\"31\" y1=\"0\" x2=\"31\" y2=\"20\" style=\"stroke:#dcf2f3;stroke-width:3;\" /><line x1=\"32\" y1=\"0\" x2=\"32\" y2=\"20\" style=\"stroke:#dcf2f3;stroke-width:3;\" /><line x1=\"33\" y1=\"0\" x2=\"33\" y2=\"20\" style=\"stroke:#dbf2f3;stroke-width:3;\" /><line x1=\"34\" y1=\"0\" x2=\"34\" y2=\"20\" style=\"stroke:#dbf1f3;stroke-width:3;\" /><line x1=\"35\" y1=\"0\" x2=\"35\" y2=\"20\" style=\"stroke:#dbf1f3;stroke-width:3;\" /><line x1=\"36\" y1=\"0\" x2=\"36\" y2=\"20\" style=\"stroke:#daf1f3;stroke-width:3;\" /><line x1=\"37\" y1=\"0\" x2=\"37\" y2=\"20\" style=\"stroke:#daf1f2;stroke-width:3;\" /><line x1=\"38\" y1=\"0\" x2=\"38\" y2=\"20\" style=\"stroke:#daf1f2;stroke-width:3;\" /><line x1=\"39\" y1=\"0\" x2=\"39\" y2=\"20\" style=\"stroke:#d9f1f2;stroke-width:3;\" /><line x1=\"40\" y1=\"0\" x2=\"40\" y2=\"20\" style=\"stroke:#d9f1f2;stroke-width:3;\" /><line x1=\"41\" y1=\"0\" x2=\"41\" y2=\"20\" style=\"stroke:#d9f1f2;stroke-width:3;\" /><line x1=\"42\" y1=\"0\" x2=\"42\" y2=\"20\" style=\"stroke:#d9f1f1;stroke-width:3;\" /><line x1=\"43\" y1=\"0\" x2=\"43\" y2=\"20\" style=\"stroke:#d8f0f1;stroke-width:3;\" /><line x1=\"44\" y1=\"0\" x2=\"44\" y2=\"20\" style=\"stroke:#d8f0f1;stroke-width:3;\" /><line x1=\"45\" y1=\"0\" x2=\"45\" y2=\"20\" style=\"stroke:#d8f0f1;stroke-width:3;\" /><line x1=\"46\" y1=\"0\" x2=\"46\" y2=\"20\" style=\"stroke:#d7f0f1;stroke-width:3;\" /><line x1=\"47\" y1=\"0\" x2=\"47\" y2=\"20\" style=\"stroke:#d7f0f0;stroke-width:3;\" /><line x1=\"48\" y1=\"0\" x2=\"48\" y2=\"20\" style=\"stroke:#d7f0f0;stroke-width:3;\" /><line x1=\"49\" y1=\"0\" x2=\"49\" y2=\"20\" style=\"stroke:#d6f0f0;stroke-width:3;\" /><line x1=\"50\" y1=\"0\" x2=\"50\" y2=\"20\" style=\"stroke:#d6f0f0;stroke-width:3;\" /><line x1=\"51\" y1=\"0\" x2=\"51\" y2=\"20\" style=\"stroke:#d6f0f0;stroke-width:3;\" /><line x1=\"52\" y1=\"0\" x2=\"52\" y2=\"20\" style=\"stroke:#d5efef;stroke-width:3;\" /><line x1=\"53\" y1=\"0\" x2=\"53\" y2=\"20\" style=\"stroke:#d5efef;stroke-width:3;\" /><line x1=\"54\" y1=\"0\" x2=\"54\" y2=\"20\" style=\"stroke:#d5efef;stroke-width:3;\" /><line x1=\"55\" y1=\"0\" x2=\"55\" y2=\"20\" style=\"stroke:#d5efef;stroke-width:3;\" /><line x1=\"56\" y1=\"0\" x2=\"56\" y2=\"20\" style=\"stroke:#d4efef;stroke-width:3;\" /><line x1=\"57\" y1=\"0\" x2=\"57\" y2=\"20\" style=\"stroke:#d4efee;stroke-width:3;\" /><line x1=\"58\" y1=\"0\" x2=\"58\" y2=\"20\" style=\"stroke:#d4efee;stroke-width:3;\" /><line x1=\"59\" y1=\"0\" x2=\"59\" y2=\"20\" style=\"stroke:#d3efee;stroke-width:3;\" /><line x1=\"60\" y1=\"0\" x2=\"60\" y2=\"20\" style=\"stroke:#d3eeee;stroke-width:3;\" /><line x1=\"61\" y1=\"0\" x2=\"61\" y2=\"20\" style=\"stroke:#d3eeee;stroke-width:3;\" /><line x1=\"62\" y1=\"0\" x2=\"62\" y2=\"20\" style=\"stroke:#d2eeee;stroke-width:3;\" /><line x1=\"63\" y1=\"0\" x2=\"63\" y2=\"20\" style=\"stroke:#d2eeed;stroke-width:3;\" /><line x1=\"64\" y1=\"0\" x2=\"64\" y2=\"20\" style=\"stroke:#d2eeed;stroke-width:3;\" /><line x1=\"65\" y1=\"0\" x2=\"65\" y2=\"20\" style=\"stroke:#d2eeed;stroke-width:3;\" /><line x1=\"66\" y1=\"0\" x2=\"66\" y2=\"20\" style=\"stroke:#d1eeed;stroke-width:3;\" /><line x1=\"67\" y1=\"0\" x2=\"67\" y2=\"20\" style=\"stroke:#d1eeed;stroke-width:3;\" /><line x1=\"68\" y1=\"0\" x2=\"68\" y2=\"20\" style=\"stroke:#d1eeec;stroke-width:3;\" /><line x1=\"69\" y1=\"0\" x2=\"69\" y2=\"20\" style=\"stroke:#d0edec;stroke-width:3;\" /><line x1=\"70\" y1=\"0\" x2=\"70\" y2=\"20\" style=\"stroke:#d0edec;stroke-width:3;\" /><line x1=\"71\" y1=\"0\" x2=\"71\" y2=\"20\" style=\"stroke:#d0edec;stroke-width:3;\" /><line x1=\"72\" y1=\"0\" x2=\"72\" y2=\"20\" style=\"stroke:#cfedec;stroke-width:3;\" /><line x1=\"73\" y1=\"0\" x2=\"73\" y2=\"20\" style=\"stroke:#cfedeb;stroke-width:3;\" /><line x1=\"74\" y1=\"0\" x2=\"74\" y2=\"20\" style=\"stroke:#cfedeb;stroke-width:3;\" /><line x1=\"75\" y1=\"0\" x2=\"75\" y2=\"20\" style=\"stroke:#ceedeb;stroke-width:3;\" /><line x1=\"76\" y1=\"0\" x2=\"76\" y2=\"20\" style=\"stroke:#ceedeb;stroke-width:3;\" /><line x1=\"77\" y1=\"0\" x2=\"77\" y2=\"20\" style=\"stroke:#ceeceb;stroke-width:3;\" /><line x1=\"78\" y1=\"0\" x2=\"78\" y2=\"20\" style=\"stroke:#ceecea;stroke-width:3;\" /><line x1=\"79\" y1=\"0\" x2=\"79\" y2=\"20\" style=\"stroke:#cdecea;stroke-width:3;\" /><line x1=\"80\" y1=\"0\" x2=\"80\" y2=\"20\" style=\"stroke:#cdecea;stroke-width:3;\" /><line x1=\"81\" y1=\"0\" x2=\"81\" y2=\"20\" style=\"stroke:#cdecea;stroke-width:3;\" /><line x1=\"82\" y1=\"0\" x2=\"82\" y2=\"20\" style=\"stroke:#ccecea;stroke-width:3;\" /><line x1=\"83\" y1=\"0\" x2=\"83\" y2=\"20\" style=\"stroke:#ccece9;stroke-width:3;\" /><line x1=\"84\" y1=\"0\" x2=\"84\" y2=\"20\" style=\"stroke:#ccece9;stroke-width:3;\" /><line x1=\"85\" y1=\"0\" x2=\"85\" y2=\"20\" style=\"stroke:#cbece9;stroke-width:3;\" /><line x1=\"86\" y1=\"0\" x2=\"86\" y2=\"20\" style=\"stroke:#cbebe9;stroke-width:3;\" /><line x1=\"87\" y1=\"0\" x2=\"87\" y2=\"20\" style=\"stroke:#cbebe9;stroke-width:3;\" /><line x1=\"88\" y1=\"0\" x2=\"88\" y2=\"20\" style=\"stroke:#caebe8;stroke-width:3;\" /><line x1=\"89\" y1=\"0\" x2=\"89\" y2=\"20\" style=\"stroke:#caebe8;stroke-width:3;\" /><line x1=\"90\" y1=\"0\" x2=\"90\" y2=\"20\" style=\"stroke:#caebe8;stroke-width:3;\" /><line x1=\"91\" y1=\"0\" x2=\"91\" y2=\"20\" style=\"stroke:#caebe8;stroke-width:3;\" /><line x1=\"92\" y1=\"0\" x2=\"92\" y2=\"20\" style=\"stroke:#c9ebe8;stroke-width:3;\" /><line x1=\"93\" y1=\"0\" x2=\"93\" y2=\"20\" style=\"stroke:#c9ebe8;stroke-width:3;\" /><line x1=\"94\" y1=\"0\" x2=\"94\" y2=\"20\" style=\"stroke:#c9eae7;stroke-width:3;\" /><line x1=\"95\" y1=\"0\" x2=\"95\" y2=\"20\" style=\"stroke:#c8eae7;stroke-width:3;\" /><line x1=\"96\" y1=\"0\" x2=\"96\" y2=\"20\" style=\"stroke:#c8eae7;stroke-width:3;\" /><line x1=\"97\" y1=\"0\" x2=\"97\" y2=\"20\" style=\"stroke:#c8eae7;stroke-width:3;\" /><line x1=\"98\" y1=\"0\" x2=\"98\" y2=\"20\" style=\"stroke:#c7eae7;stroke-width:3;\" /><line x1=\"99\" y1=\"0\" x2=\"99\" y2=\"20\" style=\"stroke:#c7eae6;stroke-width:3;\" /><line x1=\"100\" y1=\"0\" x2=\"100\" y2=\"20\" style=\"stroke:#c7eae6;stroke-width:3;\" /><line x1=\"101\" y1=\"0\" x2=\"101\" y2=\"20\" style=\"stroke:#c7eae6;stroke-width:3;\" /><line x1=\"102\" y1=\"0\" x2=\"102\" y2=\"20\" style=\"stroke:#c6eae6;stroke-width:3;\" /><line x1=\"103\" y1=\"0\" x2=\"103\" y2=\"20\" style=\"stroke:#c6e9e6;stroke-width:3;\" /><line x1=\"104\" y1=\"0\" x2=\"104\" y2=\"20\" style=\"stroke:#c6e9e5;stroke-width:3;\" /><line x1=\"105\" y1=\"0\" x2=\"105\" y2=\"20\" style=\"stroke:#c5e9e5;stroke-width:3;\" /><line x1=\"106\" y1=\"0\" x2=\"106\" y2=\"20\" style=\"stroke:#c5e9e5;stroke-width:3;\" /><line x1=\"107\" y1=\"0\" x2=\"107\" y2=\"20\" style=\"stroke:#c5e9e5;stroke-width:3;\" /><line x1=\"108\" y1=\"0\" x2=\"108\" y2=\"20\" style=\"stroke:#c4e9e5;stroke-width:3;\" /><line x1=\"109\" y1=\"0\" x2=\"109\" y2=\"20\" style=\"stroke:#c4e9e4;stroke-width:3;\" /><line x1=\"110\" y1=\"0\" x2=\"110\" y2=\"20\" style=\"stroke:#c4e9e4;stroke-width:3;\" /><line x1=\"111\" y1=\"0\" x2=\"111\" y2=\"20\" style=\"stroke:#c3e9e4;stroke-width:3;\" /><line x1=\"112\" y1=\"0\" x2=\"112\" y2=\"20\" style=\"stroke:#c3e8e4;stroke-width:3;\" /><line x1=\"113\" y1=\"0\" x2=\"113\" y2=\"20\" style=\"stroke:#c3e8e4;stroke-width:3;\" /><line x1=\"114\" y1=\"0\" x2=\"114\" y2=\"20\" style=\"stroke:#c3e8e3;stroke-width:3;\" /><line x1=\"115\" y1=\"0\" x2=\"115\" y2=\"20\" style=\"stroke:#c2e8e3;stroke-width:3;\" /><line x1=\"116\" y1=\"0\" x2=\"116\" y2=\"20\" style=\"stroke:#c2e8e3;stroke-width:3;\" /><line x1=\"117\" y1=\"0\" x2=\"117\" y2=\"20\" style=\"stroke:#c2e8e3;stroke-width:3;\" /><line x1=\"118\" y1=\"0\" x2=\"118\" y2=\"20\" style=\"stroke:#c1e8e3;stroke-width:3;\" /><line x1=\"119\" y1=\"0\" x2=\"119\" y2=\"20\" style=\"stroke:#c1e8e2;stroke-width:3;\" /><line x1=\"120\" y1=\"0\" x2=\"120\" y2=\"20\" style=\"stroke:#c1e7e2;stroke-width:3;\" /><line x1=\"121\" y1=\"0\" x2=\"121\" y2=\"20\" style=\"stroke:#c0e7e2;stroke-width:3;\" /><line x1=\"122\" y1=\"0\" x2=\"122\" y2=\"20\" style=\"stroke:#c0e7e2;stroke-width:3;\" /><line x1=\"123\" y1=\"0\" x2=\"123\" y2=\"20\" style=\"stroke:#c0e7e2;stroke-width:3;\" /><line x1=\"124\" y1=\"0\" x2=\"124\" y2=\"20\" style=\"stroke:#bfe7e2;stroke-width:3;\" /><line x1=\"125\" y1=\"0\" x2=\"125\" y2=\"20\" style=\"stroke:#bfe7e1;stroke-width:3;\" /><line x1=\"126\" y1=\"0\" x2=\"126\" y2=\"20\" style=\"stroke:#bfe7e1;stroke-width:3;\" /><line x1=\"127\" y1=\"0\" x2=\"127\" y2=\"20\" style=\"stroke:#bfe7e1;stroke-width:3;\" /><line x1=\"128\" y1=\"0\" x2=\"128\" y2=\"20\" style=\"stroke:#bee7e1;stroke-width:3;\" /><line x1=\"129\" y1=\"0\" x2=\"129\" y2=\"20\" style=\"stroke:#bee6e1;stroke-width:3;\" /><line x1=\"130\" y1=\"0\" x2=\"130\" y2=\"20\" style=\"stroke:#bee6e0;stroke-width:3;\" /><line x1=\"131\" y1=\"0\" x2=\"131\" y2=\"20\" style=\"stroke:#bde6e0;stroke-width:3;\" /><line x1=\"132\" y1=\"0\" x2=\"132\" y2=\"20\" style=\"stroke:#bde6e0;stroke-width:3;\" /><line x1=\"133\" y1=\"0\" x2=\"133\" y2=\"20\" style=\"stroke:#bde6e0;stroke-width:3;\" /><line x1=\"134\" y1=\"0\" x2=\"134\" y2=\"20\" style=\"stroke:#bce6e0;stroke-width:3;\" /><line x1=\"135\" y1=\"0\" x2=\"135\" y2=\"20\" style=\"stroke:#bce6df;stroke-width:3;\" /><line x1=\"136\" y1=\"0\" x2=\"136\" y2=\"20\" style=\"stroke:#bce6df;stroke-width:3;\" /><line x1=\"137\" y1=\"0\" x2=\"137\" y2=\"20\" style=\"stroke:#bce5df;stroke-width:3;\" /><line x1=\"138\" y1=\"0\" x2=\"138\" y2=\"20\" style=\"stroke:#bbe5df;stroke-width:3;\" /><line x1=\"139\" y1=\"0\" x2=\"139\" y2=\"20\" style=\"stroke:#bbe5df;stroke-width:3;\" /><line x1=\"140\" y1=\"0\" x2=\"140\" y2=\"20\" style=\"stroke:#bbe5de;stroke-width:3;\" /><line x1=\"141\" y1=\"0\" x2=\"141\" y2=\"20\" style=\"stroke:#bae5de;stroke-width:3;\" /><line x1=\"142\" y1=\"0\" x2=\"142\" y2=\"20\" style=\"stroke:#bae5de;stroke-width:3;\" /><line x1=\"143\" y1=\"0\" x2=\"143\" y2=\"20\" style=\"stroke:#bae5de;stroke-width:3;\" /><line x1=\"144\" y1=\"0\" x2=\"144\" y2=\"20\" style=\"stroke:#b9e5de;stroke-width:3;\" /><line x1=\"145\" y1=\"0\" x2=\"145\" y2=\"20\" style=\"stroke:#b9e5dd;stroke-width:3;\" /><line x1=\"146\" y1=\"0\" x2=\"146\" y2=\"20\" style=\"stroke:#b9e4dd;stroke-width:3;\" /><line x1=\"147\" y1=\"0\" x2=\"147\" y2=\"20\" style=\"stroke:#b8e4dd;stroke-width:3;\" /><line x1=\"148\" y1=\"0\" x2=\"148\" y2=\"20\" style=\"stroke:#b8e4dd;stroke-width:3;\" /><line x1=\"149\" y1=\"0\" x2=\"149\" y2=\"20\" style=\"stroke:#b8e4dd;stroke-width:3;\" /><line x1=\"150\" y1=\"0\" x2=\"150\" y2=\"20\" style=\"stroke:#b8e4dd;stroke-width:3;\" /><line x1=\"151\" y1=\"0\" x2=\"151\" y2=\"20\" style=\"stroke:#b7e4dc;stroke-width:3;\" /><line x1=\"152\" y1=\"0\" x2=\"152\" y2=\"20\" style=\"stroke:#b7e4dc;stroke-width:3;\" /><line x1=\"153\" y1=\"0\" x2=\"153\" y2=\"20\" style=\"stroke:#b7e4dc;stroke-width:3;\" /><line x1=\"154\" y1=\"0\" x2=\"154\" y2=\"20\" style=\"stroke:#b6e3dc;stroke-width:3;\" /><line x1=\"155\" y1=\"0\" x2=\"155\" y2=\"20\" style=\"stroke:#b6e3dc;stroke-width:3;\" /><line x1=\"156\" y1=\"0\" x2=\"156\" y2=\"20\" style=\"stroke:#b6e3db;stroke-width:3;\" /><line x1=\"157\" y1=\"0\" x2=\"157\" y2=\"20\" style=\"stroke:#b5e3db;stroke-width:3;\" /><line x1=\"158\" y1=\"0\" x2=\"158\" y2=\"20\" style=\"stroke:#b5e3db;stroke-width:3;\" /><line x1=\"159\" y1=\"0\" x2=\"159\" y2=\"20\" style=\"stroke:#b5e3db;stroke-width:3;\" /><line x1=\"160\" y1=\"0\" x2=\"160\" y2=\"20\" style=\"stroke:#b4e3db;stroke-width:3;\" /><line x1=\"161\" y1=\"0\" x2=\"161\" y2=\"20\" style=\"stroke:#b4e3da;stroke-width:3;\" /><line x1=\"162\" y1=\"0\" x2=\"162\" y2=\"20\" style=\"stroke:#b4e3da;stroke-width:3;\" /><line x1=\"163\" y1=\"0\" x2=\"163\" y2=\"20\" style=\"stroke:#b4e2da;stroke-width:3;\" /><line x1=\"164\" y1=\"0\" x2=\"164\" y2=\"20\" style=\"stroke:#b3e2da;stroke-width:3;\" /><line x1=\"165\" y1=\"0\" x2=\"165\" y2=\"20\" style=\"stroke:#b3e2da;stroke-width:3;\" /><line x1=\"166\" y1=\"0\" x2=\"166\" y2=\"20\" style=\"stroke:#b3e2d9;stroke-width:3;\" /><line x1=\"167\" y1=\"0\" x2=\"167\" y2=\"20\" style=\"stroke:#b2e2d9;stroke-width:3;\" /><line x1=\"168\" y1=\"0\" x2=\"168\" y2=\"20\" style=\"stroke:#b2e2d9;stroke-width:3;\" /><line x1=\"169\" y1=\"0\" x2=\"169\" y2=\"20\" style=\"stroke:#b2e2d9;stroke-width:3;\" /><line x1=\"170\" y1=\"0\" x2=\"170\" y2=\"20\" style=\"stroke:#b1e2d9;stroke-width:3;\" /><line x1=\"171\" y1=\"0\" x2=\"171\" y2=\"20\" style=\"stroke:#b1e2d8;stroke-width:3;\" /><line x1=\"172\" y1=\"0\" x2=\"172\" y2=\"20\" style=\"stroke:#b1e1d8;stroke-width:3;\" /><line x1=\"173\" y1=\"0\" x2=\"173\" y2=\"20\" style=\"stroke:#b0e1d8;stroke-width:3;\" /><line x1=\"174\" y1=\"0\" x2=\"174\" y2=\"20\" style=\"stroke:#b0e1d8;stroke-width:3;\" /><line x1=\"175\" y1=\"0\" x2=\"175\" y2=\"20\" style=\"stroke:#b0e1d8;stroke-width:3;\" /><line x1=\"176\" y1=\"0\" x2=\"176\" y2=\"20\" style=\"stroke:#b0e1d7;stroke-width:3;\" /><line x1=\"177\" y1=\"0\" x2=\"177\" y2=\"20\" style=\"stroke:#afe1d7;stroke-width:3;\" /><line x1=\"178\" y1=\"0\" x2=\"178\" y2=\"20\" style=\"stroke:#afe1d7;stroke-width:3;\" /><line x1=\"179\" y1=\"0\" x2=\"179\" y2=\"20\" style=\"stroke:#afe1d7;stroke-width:3;\" /><line x1=\"180\" y1=\"0\" x2=\"180\" y2=\"20\" style=\"stroke:#aee0d7;stroke-width:3;\" /><line x1=\"181\" y1=\"0\" x2=\"181\" y2=\"20\" style=\"stroke:#aee0d7;stroke-width:3;\" /><line x1=\"182\" y1=\"0\" x2=\"182\" y2=\"20\" style=\"stroke:#aee0d6;stroke-width:3;\" /><line x1=\"183\" y1=\"0\" x2=\"183\" y2=\"20\" style=\"stroke:#ade0d6;stroke-width:3;\" /><line x1=\"184\" y1=\"0\" x2=\"184\" y2=\"20\" style=\"stroke:#ade0d6;stroke-width:3;\" /><line x1=\"185\" y1=\"0\" x2=\"185\" y2=\"20\" style=\"stroke:#ade0d6;stroke-width:3;\" /><line x1=\"186\" y1=\"0\" x2=\"186\" y2=\"20\" style=\"stroke:#ade0d6;stroke-width:3;\" /><line x1=\"187\" y1=\"0\" x2=\"187\" y2=\"20\" style=\"stroke:#ace0d5;stroke-width:3;\" /><line x1=\"188\" y1=\"0\" x2=\"188\" y2=\"20\" style=\"stroke:#ace0d5;stroke-width:3;\" /><line x1=\"189\" y1=\"0\" x2=\"189\" y2=\"20\" style=\"stroke:#acdfd5;stroke-width:3;\" /><line x1=\"190\" y1=\"0\" x2=\"190\" y2=\"20\" style=\"stroke:#abdfd5;stroke-width:3;\" /><line x1=\"191\" y1=\"0\" x2=\"191\" y2=\"20\" style=\"stroke:#abdfd5;stroke-width:3;\" /><line x1=\"192\" y1=\"0\" x2=\"192\" y2=\"20\" style=\"stroke:#abdfd4;stroke-width:3;\" /><line x1=\"193\" y1=\"0\" x2=\"193\" y2=\"20\" style=\"stroke:#aadfd4;stroke-width:3;\" /><line x1=\"194\" y1=\"0\" x2=\"194\" y2=\"20\" style=\"stroke:#aadfd4;stroke-width:3;\" /><line x1=\"195\" y1=\"0\" x2=\"195\" y2=\"20\" style=\"stroke:#aadfd4;stroke-width:3;\" /><line x1=\"196\" y1=\"0\" x2=\"196\" y2=\"20\" style=\"stroke:#a9dfd4;stroke-width:3;\" /><line x1=\"197\" y1=\"0\" x2=\"197\" y2=\"20\" style=\"stroke:#a9ded3;stroke-width:3;\" /><line x1=\"198\" y1=\"0\" x2=\"198\" y2=\"20\" style=\"stroke:#a9ded3;stroke-width:3;\" /><line x1=\"199\" y1=\"0\" x2=\"199\" y2=\"20\" style=\"stroke:#a9ded3;stroke-width:3;\" /><line x1=\"200\" y1=\"0\" x2=\"200\" y2=\"20\" style=\"stroke:#a8ded3;stroke-width:3;\" /><line x1=\"201\" y1=\"0\" x2=\"201\" y2=\"20\" style=\"stroke:#a8ded3;stroke-width:3;\" /><line x1=\"202\" y1=\"0\" x2=\"202\" y2=\"20\" style=\"stroke:#a8ded2;stroke-width:3;\" /><line x1=\"203\" y1=\"0\" x2=\"203\" y2=\"20\" style=\"stroke:#a7ded2;stroke-width:3;\" /><line x1=\"204\" y1=\"0\" x2=\"204\" y2=\"20\" style=\"stroke:#a7ded2;stroke-width:3;\" /><line x1=\"205\" y1=\"0\" x2=\"205\" y2=\"20\" style=\"stroke:#a7ded2;stroke-width:3;\" /><line x1=\"206\" y1=\"0\" x2=\"206\" y2=\"20\" style=\"stroke:#a6ddd2;stroke-width:3;\" /><line x1=\"207\" y1=\"0\" x2=\"207\" y2=\"20\" style=\"stroke:#a6ddd1;stroke-width:3;\" /><line x1=\"208\" y1=\"0\" x2=\"208\" y2=\"20\" style=\"stroke:#a6ddd1;stroke-width:3;\" /><line x1=\"209\" y1=\"0\" x2=\"209\" y2=\"20\" style=\"stroke:#a5ddd1;stroke-width:3;\" /><line x1=\"210\" y1=\"0\" x2=\"210\" y2=\"20\" style=\"stroke:#a5ddd1;stroke-width:3;\" /><line x1=\"211\" y1=\"0\" x2=\"211\" y2=\"20\" style=\"stroke:#a5ddd1;stroke-width:3;\" /><line x1=\"212\" y1=\"0\" x2=\"212\" y2=\"20\" style=\"stroke:#a5ddd1;stroke-width:3;\" /><line x1=\"213\" y1=\"0\" x2=\"213\" y2=\"20\" style=\"stroke:#a4ddd0;stroke-width:3;\" /><line x1=\"214\" y1=\"0\" x2=\"214\" y2=\"20\" style=\"stroke:#a4dcd0;stroke-width:3;\" /><line x1=\"215\" y1=\"0\" x2=\"215\" y2=\"20\" style=\"stroke:#a4dcd0;stroke-width:3;\" /><line x1=\"216\" y1=\"0\" x2=\"216\" y2=\"20\" style=\"stroke:#a3dcd0;stroke-width:3;\" /><line x1=\"217\" y1=\"0\" x2=\"217\" y2=\"20\" style=\"stroke:#a3dcd0;stroke-width:3;\" /><line x1=\"218\" y1=\"0\" x2=\"218\" y2=\"20\" style=\"stroke:#a3dccf;stroke-width:3;\" /><line x1=\"219\" y1=\"0\" x2=\"219\" y2=\"20\" style=\"stroke:#a2dccf;stroke-width:3;\" /><line x1=\"220\" y1=\"0\" x2=\"220\" y2=\"20\" style=\"stroke:#a2dccf;stroke-width:3;\" /><line x1=\"221\" y1=\"0\" x2=\"221\" y2=\"20\" style=\"stroke:#a2dccf;stroke-width:3;\" /><line x1=\"222\" y1=\"0\" x2=\"222\" y2=\"20\" style=\"stroke:#a2dccf;stroke-width:3;\" /><line x1=\"223\" y1=\"0\" x2=\"223\" y2=\"20\" style=\"stroke:#a1dbce;stroke-width:3;\" /><line x1=\"224\" y1=\"0\" x2=\"224\" y2=\"20\" style=\"stroke:#a1dbce;stroke-width:3;\" /><line x1=\"225\" y1=\"0\" x2=\"225\" y2=\"20\" style=\"stroke:#a1dbce;stroke-width:3;\" /><line x1=\"226\" y1=\"0\" x2=\"226\" y2=\"20\" style=\"stroke:#a0dbce;stroke-width:3;\" /><line x1=\"227\" y1=\"0\" x2=\"227\" y2=\"20\" style=\"stroke:#a0dbce;stroke-width:3;\" /><line x1=\"228\" y1=\"0\" x2=\"228\" y2=\"20\" style=\"stroke:#a0dbcd;stroke-width:3;\" /><line x1=\"229\" y1=\"0\" x2=\"229\" y2=\"20\" style=\"stroke:#9fdbcd;stroke-width:3;\" /><line x1=\"230\" y1=\"0\" x2=\"230\" y2=\"20\" style=\"stroke:#9fdbcd;stroke-width:3;\" /><line x1=\"231\" y1=\"0\" x2=\"231\" y2=\"20\" style=\"stroke:#9fdbcd;stroke-width:3;\" /><line x1=\"232\" y1=\"0\" x2=\"232\" y2=\"20\" style=\"stroke:#9edacd;stroke-width:3;\" /><line x1=\"233\" y1=\"0\" x2=\"233\" y2=\"20\" style=\"stroke:#9edacc;stroke-width:3;\" /><line x1=\"234\" y1=\"0\" x2=\"234\" y2=\"20\" style=\"stroke:#9edacc;stroke-width:3;\" /><line x1=\"235\" y1=\"0\" x2=\"235\" y2=\"20\" style=\"stroke:#9edacc;stroke-width:3;\" /><line x1=\"236\" y1=\"0\" x2=\"236\" y2=\"20\" style=\"stroke:#9ddacc;stroke-width:3;\" /><line x1=\"237\" y1=\"0\" x2=\"237\" y2=\"20\" style=\"stroke:#9ddacc;stroke-width:3;\" /><line x1=\"238\" y1=\"0\" x2=\"238\" y2=\"20\" style=\"stroke:#9ddacc;stroke-width:3;\" /><line x1=\"239\" y1=\"0\" x2=\"239\" y2=\"20\" style=\"stroke:#9cdacb;stroke-width:3;\" /><line x1=\"240\" y1=\"0\" x2=\"240\" y2=\"20\" style=\"stroke:#9cd9cb;stroke-width:3;\" /><line x1=\"241\" y1=\"0\" x2=\"241\" y2=\"20\" style=\"stroke:#9cd9cb;stroke-width:3;\" /><line x1=\"242\" y1=\"0\" x2=\"242\" y2=\"20\" style=\"stroke:#9bd9cb;stroke-width:3;\" /><line x1=\"243\" y1=\"0\" x2=\"243\" y2=\"20\" style=\"stroke:#9bd9cb;stroke-width:3;\" /><line x1=\"244\" y1=\"0\" x2=\"244\" y2=\"20\" style=\"stroke:#9bd9ca;stroke-width:3;\" /><line x1=\"245\" y1=\"0\" x2=\"245\" y2=\"20\" style=\"stroke:#9ad9ca;stroke-width:3;\" /><line x1=\"246\" y1=\"0\" x2=\"246\" y2=\"20\" style=\"stroke:#9ad9ca;stroke-width:3;\" /><line x1=\"247\" y1=\"0\" x2=\"247\" y2=\"20\" style=\"stroke:#9ad9ca;stroke-width:3;\" /><line x1=\"248\" y1=\"0\" x2=\"248\" y2=\"20\" style=\"stroke:#9ad9ca;stroke-width:3;\" /><line x1=\"249\" y1=\"0\" x2=\"249\" y2=\"20\" style=\"stroke:#99d8c9;stroke-width:3;\" /><line x1=\"250\" y1=\"0\" x2=\"250\" y2=\"20\" style=\"stroke:#99d8c9;stroke-width:3;\" /><line x1=\"251\" y1=\"0\" x2=\"251\" y2=\"20\" style=\"stroke:#98d8c9;stroke-width:3;\" /><line x1=\"252\" y1=\"0\" x2=\"252\" y2=\"20\" style=\"stroke:#98d8c8;stroke-width:3;\" /><line x1=\"253\" y1=\"0\" x2=\"253\" y2=\"20\" style=\"stroke:#98d8c8;stroke-width:3;\" /><line x1=\"254\" y1=\"0\" x2=\"254\" y2=\"20\" style=\"stroke:#97d7c7;stroke-width:3;\" /><line x1=\"255\" y1=\"0\" x2=\"255\" y2=\"20\" style=\"stroke:#97d7c7;stroke-width:3;\" /><line x1=\"256\" y1=\"0\" x2=\"256\" y2=\"20\" style=\"stroke:#96d7c7;stroke-width:3;\" /><line x1=\"257\" y1=\"0\" x2=\"257\" y2=\"20\" style=\"stroke:#96d7c6;stroke-width:3;\" /><line x1=\"258\" y1=\"0\" x2=\"258\" y2=\"20\" style=\"stroke:#95d7c6;stroke-width:3;\" /><line x1=\"259\" y1=\"0\" x2=\"259\" y2=\"20\" style=\"stroke:#95d6c5;stroke-width:3;\" /><line x1=\"260\" y1=\"0\" x2=\"260\" y2=\"20\" style=\"stroke:#94d6c5;stroke-width:3;\" /><line x1=\"261\" y1=\"0\" x2=\"261\" y2=\"20\" style=\"stroke:#94d6c4;stroke-width:3;\" /><line x1=\"262\" y1=\"0\" x2=\"262\" y2=\"20\" style=\"stroke:#94d6c4;stroke-width:3;\" /><line x1=\"263\" y1=\"0\" x2=\"263\" y2=\"20\" style=\"stroke:#93d5c4;stroke-width:3;\" /><line x1=\"264\" y1=\"0\" x2=\"264\" y2=\"20\" style=\"stroke:#93d5c3;stroke-width:3;\" /><line x1=\"265\" y1=\"0\" x2=\"265\" y2=\"20\" style=\"stroke:#92d5c3;stroke-width:3;\" /><line x1=\"266\" y1=\"0\" x2=\"266\" y2=\"20\" style=\"stroke:#92d5c2;stroke-width:3;\" /><line x1=\"267\" y1=\"0\" x2=\"267\" y2=\"20\" style=\"stroke:#91d5c2;stroke-width:3;\" /><line x1=\"268\" y1=\"0\" x2=\"268\" y2=\"20\" style=\"stroke:#91d4c1;stroke-width:3;\" /><line x1=\"269\" y1=\"0\" x2=\"269\" y2=\"20\" style=\"stroke:#91d4c1;stroke-width:3;\" /><line x1=\"270\" y1=\"0\" x2=\"270\" y2=\"20\" style=\"stroke:#90d4c1;stroke-width:3;\" /><line x1=\"271\" y1=\"0\" x2=\"271\" y2=\"20\" style=\"stroke:#90d4c0;stroke-width:3;\" /><line x1=\"272\" y1=\"0\" x2=\"272\" y2=\"20\" style=\"stroke:#8fd3c0;stroke-width:3;\" /><line x1=\"273\" y1=\"0\" x2=\"273\" y2=\"20\" style=\"stroke:#8fd3bf;stroke-width:3;\" /><line x1=\"274\" y1=\"0\" x2=\"274\" y2=\"20\" style=\"stroke:#8ed3bf;stroke-width:3;\" /><line x1=\"275\" y1=\"0\" x2=\"275\" y2=\"20\" style=\"stroke:#8ed3be;stroke-width:3;\" /><line x1=\"276\" y1=\"0\" x2=\"276\" y2=\"20\" style=\"stroke:#8dd3be;stroke-width:3;\" /><line x1=\"277\" y1=\"0\" x2=\"277\" y2=\"20\" style=\"stroke:#8dd2be;stroke-width:3;\" /><line x1=\"278\" y1=\"0\" x2=\"278\" y2=\"20\" style=\"stroke:#8dd2bd;stroke-width:3;\" /><line x1=\"279\" y1=\"0\" x2=\"279\" y2=\"20\" style=\"stroke:#8cd2bd;stroke-width:3;\" /><line x1=\"280\" y1=\"0\" x2=\"280\" y2=\"20\" style=\"stroke:#8cd2bc;stroke-width:3;\" /><line x1=\"281\" y1=\"0\" x2=\"281\" y2=\"20\" style=\"stroke:#8bd2bc;stroke-width:3;\" /><line x1=\"282\" y1=\"0\" x2=\"282\" y2=\"20\" style=\"stroke:#8bd1bb;stroke-width:3;\" /><line x1=\"283\" y1=\"0\" x2=\"283\" y2=\"20\" style=\"stroke:#8ad1bb;stroke-width:3;\" /><line x1=\"284\" y1=\"0\" x2=\"284\" y2=\"20\" style=\"stroke:#8ad1bb;stroke-width:3;\" /><line x1=\"285\" y1=\"0\" x2=\"285\" y2=\"20\" style=\"stroke:#8ad1ba;stroke-width:3;\" /><line x1=\"286\" y1=\"0\" x2=\"286\" y2=\"20\" style=\"stroke:#89d0ba;stroke-width:3;\" /><line x1=\"287\" y1=\"0\" x2=\"287\" y2=\"20\" style=\"stroke:#89d0b9;stroke-width:3;\" /><line x1=\"288\" y1=\"0\" x2=\"288\" y2=\"20\" style=\"stroke:#88d0b9;stroke-width:3;\" /><line x1=\"289\" y1=\"0\" x2=\"289\" y2=\"20\" style=\"stroke:#88d0b8;stroke-width:3;\" /><line x1=\"290\" y1=\"0\" x2=\"290\" y2=\"20\" style=\"stroke:#87d0b8;stroke-width:3;\" /><line x1=\"291\" y1=\"0\" x2=\"291\" y2=\"20\" style=\"stroke:#87cfb8;stroke-width:3;\" /><line x1=\"292\" y1=\"0\" x2=\"292\" y2=\"20\" style=\"stroke:#86cfb7;stroke-width:3;\" /><line x1=\"293\" y1=\"0\" x2=\"293\" y2=\"20\" style=\"stroke:#86cfb7;stroke-width:3;\" /><line x1=\"294\" y1=\"0\" x2=\"294\" y2=\"20\" style=\"stroke:#86cfb6;stroke-width:3;\" /><line x1=\"295\" y1=\"0\" x2=\"295\" y2=\"20\" style=\"stroke:#85ceb6;stroke-width:3;\" /><line x1=\"296\" y1=\"0\" x2=\"296\" y2=\"20\" style=\"stroke:#85ceb5;stroke-width:3;\" /><line x1=\"297\" y1=\"0\" x2=\"297\" y2=\"20\" style=\"stroke:#84ceb5;stroke-width:3;\" /><line x1=\"298\" y1=\"0\" x2=\"298\" y2=\"20\" style=\"stroke:#84ceb5;stroke-width:3;\" /><line x1=\"299\" y1=\"0\" x2=\"299\" y2=\"20\" style=\"stroke:#83ceb4;stroke-width:3;\" /><line x1=\"300\" y1=\"0\" x2=\"300\" y2=\"20\" style=\"stroke:#83cdb4;stroke-width:3;\" /><line x1=\"301\" y1=\"0\" x2=\"301\" y2=\"20\" style=\"stroke:#83cdb3;stroke-width:3;\" /><line x1=\"302\" y1=\"0\" x2=\"302\" y2=\"20\" style=\"stroke:#82cdb3;stroke-width:3;\" /><line x1=\"303\" y1=\"0\" x2=\"303\" y2=\"20\" style=\"stroke:#82cdb2;stroke-width:3;\" /><line x1=\"304\" y1=\"0\" x2=\"304\" y2=\"20\" style=\"stroke:#81cdb2;stroke-width:3;\" /><line x1=\"305\" y1=\"0\" x2=\"305\" y2=\"20\" style=\"stroke:#81ccb2;stroke-width:3;\" /><line x1=\"306\" y1=\"0\" x2=\"306\" y2=\"20\" style=\"stroke:#80ccb1;stroke-width:3;\" /><line x1=\"307\" y1=\"0\" x2=\"307\" y2=\"20\" style=\"stroke:#80ccb1;stroke-width:3;\" /><line x1=\"308\" y1=\"0\" x2=\"308\" y2=\"20\" style=\"stroke:#7fccb0;stroke-width:3;\" /><line x1=\"309\" y1=\"0\" x2=\"309\" y2=\"20\" style=\"stroke:#7fcbb0;stroke-width:3;\" /><line x1=\"310\" y1=\"0\" x2=\"310\" y2=\"20\" style=\"stroke:#7fcbaf;stroke-width:3;\" /><line x1=\"311\" y1=\"0\" x2=\"311\" y2=\"20\" style=\"stroke:#7ecbaf;stroke-width:3;\" /><line x1=\"312\" y1=\"0\" x2=\"312\" y2=\"20\" style=\"stroke:#7ecbaf;stroke-width:3;\" /><line x1=\"313\" y1=\"0\" x2=\"313\" y2=\"20\" style=\"stroke:#7dcbae;stroke-width:3;\" /><line x1=\"314\" y1=\"0\" x2=\"314\" y2=\"20\" style=\"stroke:#7dcaae;stroke-width:3;\" /><line x1=\"315\" y1=\"0\" x2=\"315\" y2=\"20\" style=\"stroke:#7ccaad;stroke-width:3;\" /><line x1=\"316\" y1=\"0\" x2=\"316\" y2=\"20\" style=\"stroke:#7ccaad;stroke-width:3;\" /><line x1=\"317\" y1=\"0\" x2=\"317\" y2=\"20\" style=\"stroke:#7bcaac;stroke-width:3;\" /><line x1=\"318\" y1=\"0\" x2=\"318\" y2=\"20\" style=\"stroke:#7bc9ac;stroke-width:3;\" /><line x1=\"319\" y1=\"0\" x2=\"319\" y2=\"20\" style=\"stroke:#7bc9ac;stroke-width:3;\" /><line x1=\"320\" y1=\"0\" x2=\"320\" y2=\"20\" style=\"stroke:#7ac9ab;stroke-width:3;\" /><line x1=\"321\" y1=\"0\" x2=\"321\" y2=\"20\" style=\"stroke:#7ac9ab;stroke-width:3;\" /><line x1=\"322\" y1=\"0\" x2=\"322\" y2=\"20\" style=\"stroke:#79c9aa;stroke-width:3;\" /><line x1=\"323\" y1=\"0\" x2=\"323\" y2=\"20\" style=\"stroke:#79c8aa;stroke-width:3;\" /><line x1=\"324\" y1=\"0\" x2=\"324\" y2=\"20\" style=\"stroke:#78c8aa;stroke-width:3;\" /><line x1=\"325\" y1=\"0\" x2=\"325\" y2=\"20\" style=\"stroke:#78c8a9;stroke-width:3;\" /><line x1=\"326\" y1=\"0\" x2=\"326\" y2=\"20\" style=\"stroke:#78c8a9;stroke-width:3;\" /><line x1=\"327\" y1=\"0\" x2=\"327\" y2=\"20\" style=\"stroke:#77c8a8;stroke-width:3;\" /><line x1=\"328\" y1=\"0\" x2=\"328\" y2=\"20\" style=\"stroke:#77c7a8;stroke-width:3;\" /><line x1=\"329\" y1=\"0\" x2=\"329\" y2=\"20\" style=\"stroke:#76c7a7;stroke-width:3;\" /><line x1=\"330\" y1=\"0\" x2=\"330\" y2=\"20\" style=\"stroke:#76c7a7;stroke-width:3;\" /><line x1=\"331\" y1=\"0\" x2=\"331\" y2=\"20\" style=\"stroke:#75c7a7;stroke-width:3;\" /><line x1=\"332\" y1=\"0\" x2=\"332\" y2=\"20\" style=\"stroke:#75c6a6;stroke-width:3;\" /><line x1=\"333\" y1=\"0\" x2=\"333\" y2=\"20\" style=\"stroke:#74c6a6;stroke-width:3;\" /><line x1=\"334\" y1=\"0\" x2=\"334\" y2=\"20\" style=\"stroke:#74c6a5;stroke-width:3;\" /><line x1=\"335\" y1=\"0\" x2=\"335\" y2=\"20\" style=\"stroke:#74c6a5;stroke-width:3;\" /><line x1=\"336\" y1=\"0\" x2=\"336\" y2=\"20\" style=\"stroke:#73c6a4;stroke-width:3;\" /><line x1=\"337\" y1=\"0\" x2=\"337\" y2=\"20\" style=\"stroke:#73c5a4;stroke-width:3;\" /><line x1=\"338\" y1=\"0\" x2=\"338\" y2=\"20\" style=\"stroke:#72c5a4;stroke-width:3;\" /><line x1=\"339\" y1=\"0\" x2=\"339\" y2=\"20\" style=\"stroke:#72c5a3;stroke-width:3;\" /><line x1=\"340\" y1=\"0\" x2=\"340\" y2=\"20\" style=\"stroke:#71c5a3;stroke-width:3;\" /><line x1=\"341\" y1=\"0\" x2=\"341\" y2=\"20\" style=\"stroke:#71c4a2;stroke-width:3;\" /><line x1=\"342\" y1=\"0\" x2=\"342\" y2=\"20\" style=\"stroke:#71c4a2;stroke-width:3;\" /><line x1=\"343\" y1=\"0\" x2=\"343\" y2=\"20\" style=\"stroke:#70c4a1;stroke-width:3;\" /><line x1=\"344\" y1=\"0\" x2=\"344\" y2=\"20\" style=\"stroke:#70c4a1;stroke-width:3;\" /><line x1=\"345\" y1=\"0\" x2=\"345\" y2=\"20\" style=\"stroke:#6fc4a1;stroke-width:3;\" /><line x1=\"346\" y1=\"0\" x2=\"346\" y2=\"20\" style=\"stroke:#6fc3a0;stroke-width:3;\" /><line x1=\"347\" y1=\"0\" x2=\"347\" y2=\"20\" style=\"stroke:#6ec3a0;stroke-width:3;\" /><line x1=\"348\" y1=\"0\" x2=\"348\" y2=\"20\" style=\"stroke:#6ec39f;stroke-width:3;\" /><line x1=\"349\" y1=\"0\" x2=\"349\" y2=\"20\" style=\"stroke:#6dc39f;stroke-width:3;\" /><line x1=\"350\" y1=\"0\" x2=\"350\" y2=\"20\" style=\"stroke:#6dc39e;stroke-width:3;\" /><line x1=\"351\" y1=\"0\" x2=\"351\" y2=\"20\" style=\"stroke:#6dc29e;stroke-width:3;\" /><line x1=\"352\" y1=\"0\" x2=\"352\" y2=\"20\" style=\"stroke:#6cc29e;stroke-width:3;\" /><line x1=\"353\" y1=\"0\" x2=\"353\" y2=\"20\" style=\"stroke:#6cc29d;stroke-width:3;\" /><line x1=\"354\" y1=\"0\" x2=\"354\" y2=\"20\" style=\"stroke:#6bc29d;stroke-width:3;\" /><line x1=\"355\" y1=\"0\" x2=\"355\" y2=\"20\" style=\"stroke:#6bc19c;stroke-width:3;\" /><line x1=\"356\" y1=\"0\" x2=\"356\" y2=\"20\" style=\"stroke:#6ac19c;stroke-width:3;\" /><line x1=\"357\" y1=\"0\" x2=\"357\" y2=\"20\" style=\"stroke:#6ac19b;stroke-width:3;\" /><line x1=\"358\" y1=\"0\" x2=\"358\" y2=\"20\" style=\"stroke:#6ac19b;stroke-width:3;\" /><line x1=\"359\" y1=\"0\" x2=\"359\" y2=\"20\" style=\"stroke:#69c19b;stroke-width:3;\" /><line x1=\"360\" y1=\"0\" x2=\"360\" y2=\"20\" style=\"stroke:#69c09a;stroke-width:3;\" /><line x1=\"361\" y1=\"0\" x2=\"361\" y2=\"20\" style=\"stroke:#68c09a;stroke-width:3;\" /><line x1=\"362\" y1=\"0\" x2=\"362\" y2=\"20\" style=\"stroke:#68c099;stroke-width:3;\" /><line x1=\"363\" y1=\"0\" x2=\"363\" y2=\"20\" style=\"stroke:#67c099;stroke-width:3;\" /><line x1=\"364\" y1=\"0\" x2=\"364\" y2=\"20\" style=\"stroke:#67bf98;stroke-width:3;\" /><line x1=\"365\" y1=\"0\" x2=\"365\" y2=\"20\" style=\"stroke:#66bf98;stroke-width:3;\" /><line x1=\"366\" y1=\"0\" x2=\"366\" y2=\"20\" style=\"stroke:#66bf98;stroke-width:3;\" /><line x1=\"367\" y1=\"0\" x2=\"367\" y2=\"20\" style=\"stroke:#66bf97;stroke-width:3;\" /><line x1=\"368\" y1=\"0\" x2=\"368\" y2=\"20\" style=\"stroke:#65bf97;stroke-width:3;\" /><line x1=\"369\" y1=\"0\" x2=\"369\" y2=\"20\" style=\"stroke:#65be96;stroke-width:3;\" /><line x1=\"370\" y1=\"0\" x2=\"370\" y2=\"20\" style=\"stroke:#64be96;stroke-width:3;\" /><line x1=\"371\" y1=\"0\" x2=\"371\" y2=\"20\" style=\"stroke:#64be95;stroke-width:3;\" /><line x1=\"372\" y1=\"0\" x2=\"372\" y2=\"20\" style=\"stroke:#63be95;stroke-width:3;\" /><line x1=\"373\" y1=\"0\" x2=\"373\" y2=\"20\" style=\"stroke:#63be95;stroke-width:3;\" /><line x1=\"374\" y1=\"0\" x2=\"374\" y2=\"20\" style=\"stroke:#62bd94;stroke-width:3;\" /><line x1=\"375\" y1=\"0\" x2=\"375\" y2=\"20\" style=\"stroke:#62bd94;stroke-width:3;\" /><line x1=\"376\" y1=\"0\" x2=\"376\" y2=\"20\" style=\"stroke:#62bd93;stroke-width:3;\" /><line x1=\"377\" y1=\"0\" x2=\"377\" y2=\"20\" style=\"stroke:#61bd93;stroke-width:3;\" /><line x1=\"378\" y1=\"0\" x2=\"378\" y2=\"20\" style=\"stroke:#61bc92;stroke-width:3;\" /><line x1=\"379\" y1=\"0\" x2=\"379\" y2=\"20\" style=\"stroke:#60bc92;stroke-width:3;\" /><line x1=\"380\" y1=\"0\" x2=\"380\" y2=\"20\" style=\"stroke:#60bc92;stroke-width:3;\" /><line x1=\"381\" y1=\"0\" x2=\"381\" y2=\"20\" style=\"stroke:#5fbc91;stroke-width:3;\" /><line x1=\"382\" y1=\"0\" x2=\"382\" y2=\"20\" style=\"stroke:#5fbc91;stroke-width:3;\" /><line x1=\"383\" y1=\"0\" x2=\"383\" y2=\"20\" style=\"stroke:#5fbb90;stroke-width:3;\" /><line x1=\"384\" y1=\"0\" x2=\"384\" y2=\"20\" style=\"stroke:#5ebb90;stroke-width:3;\" /><line x1=\"385\" y1=\"0\" x2=\"385\" y2=\"20\" style=\"stroke:#5ebb8f;stroke-width:3;\" /><line x1=\"386\" y1=\"0\" x2=\"386\" y2=\"20\" style=\"stroke:#5dbb8f;stroke-width:3;\" /><line x1=\"387\" y1=\"0\" x2=\"387\" y2=\"20\" style=\"stroke:#5dba8f;stroke-width:3;\" /><line x1=\"388\" y1=\"0\" x2=\"388\" y2=\"20\" style=\"stroke:#5cba8e;stroke-width:3;\" /><line x1=\"389\" y1=\"0\" x2=\"389\" y2=\"20\" style=\"stroke:#5cba8e;stroke-width:3;\" /><line x1=\"390\" y1=\"0\" x2=\"390\" y2=\"20\" style=\"stroke:#5bba8d;stroke-width:3;\" /><line x1=\"391\" y1=\"0\" x2=\"391\" y2=\"20\" style=\"stroke:#5bba8d;stroke-width:3;\" /><line x1=\"392\" y1=\"0\" x2=\"392\" y2=\"20\" style=\"stroke:#5bb98d;stroke-width:3;\" /><line x1=\"393\" y1=\"0\" x2=\"393\" y2=\"20\" style=\"stroke:#5ab98c;stroke-width:3;\" /><line x1=\"394\" y1=\"0\" x2=\"394\" y2=\"20\" style=\"stroke:#5ab98c;stroke-width:3;\" /><line x1=\"395\" y1=\"0\" x2=\"395\" y2=\"20\" style=\"stroke:#59b98b;stroke-width:3;\" /><line x1=\"396\" y1=\"0\" x2=\"396\" y2=\"20\" style=\"stroke:#59b98b;stroke-width:3;\" /><line x1=\"397\" y1=\"0\" x2=\"397\" y2=\"20\" style=\"stroke:#58b88a;stroke-width:3;\" /><line x1=\"398\" y1=\"0\" x2=\"398\" y2=\"20\" style=\"stroke:#58b88a;stroke-width:3;\" /><line x1=\"399\" y1=\"0\" x2=\"399\" y2=\"20\" style=\"stroke:#58b88a;stroke-width:3;\" /><line x1=\"400\" y1=\"0\" x2=\"400\" y2=\"20\" style=\"stroke:#57b889;stroke-width:3;\" /><line x1=\"401\" y1=\"0\" x2=\"401\" y2=\"20\" style=\"stroke:#57b789;stroke-width:3;\" /><line x1=\"402\" y1=\"0\" x2=\"402\" y2=\"20\" style=\"stroke:#56b788;stroke-width:3;\" /><line x1=\"403\" y1=\"0\" x2=\"403\" y2=\"20\" style=\"stroke:#56b788;stroke-width:3;\" /><line x1=\"404\" y1=\"0\" x2=\"404\" y2=\"20\" style=\"stroke:#55b787;stroke-width:3;\" /><line x1=\"405\" y1=\"0\" x2=\"405\" y2=\"20\" style=\"stroke:#55b787;stroke-width:3;\" /><line x1=\"406\" y1=\"0\" x2=\"406\" y2=\"20\" style=\"stroke:#54b687;stroke-width:3;\" /><line x1=\"407\" y1=\"0\" x2=\"407\" y2=\"20\" style=\"stroke:#54b686;stroke-width:3;\" /><line x1=\"408\" y1=\"0\" x2=\"408\" y2=\"20\" style=\"stroke:#54b686;stroke-width:3;\" /><line x1=\"409\" y1=\"0\" x2=\"409\" y2=\"20\" style=\"stroke:#53b685;stroke-width:3;\" /><line x1=\"410\" y1=\"0\" x2=\"410\" y2=\"20\" style=\"stroke:#53b585;stroke-width:3;\" /><line x1=\"411\" y1=\"0\" x2=\"411\" y2=\"20\" style=\"stroke:#52b584;stroke-width:3;\" /><line x1=\"412\" y1=\"0\" x2=\"412\" y2=\"20\" style=\"stroke:#52b584;stroke-width:3;\" /><line x1=\"413\" y1=\"0\" x2=\"413\" y2=\"20\" style=\"stroke:#51b584;stroke-width:3;\" /><line x1=\"414\" y1=\"0\" x2=\"414\" y2=\"20\" style=\"stroke:#51b583;stroke-width:3;\" /><line x1=\"415\" y1=\"0\" x2=\"415\" y2=\"20\" style=\"stroke:#51b483;stroke-width:3;\" /><line x1=\"416\" y1=\"0\" x2=\"416\" y2=\"20\" style=\"stroke:#50b482;stroke-width:3;\" /><line x1=\"417\" y1=\"0\" x2=\"417\" y2=\"20\" style=\"stroke:#50b482;stroke-width:3;\" /><line x1=\"418\" y1=\"0\" x2=\"418\" y2=\"20\" style=\"stroke:#4fb481;stroke-width:3;\" /><line x1=\"419\" y1=\"0\" x2=\"419\" y2=\"20\" style=\"stroke:#4fb481;stroke-width:3;\" /><line x1=\"420\" y1=\"0\" x2=\"420\" y2=\"20\" style=\"stroke:#4eb381;stroke-width:3;\" /><line x1=\"421\" y1=\"0\" x2=\"421\" y2=\"20\" style=\"stroke:#4eb380;stroke-width:3;\" /><line x1=\"422\" y1=\"0\" x2=\"422\" y2=\"20\" style=\"stroke:#4db380;stroke-width:3;\" /><line x1=\"423\" y1=\"0\" x2=\"423\" y2=\"20\" style=\"stroke:#4db37f;stroke-width:3;\" /><line x1=\"424\" y1=\"0\" x2=\"424\" y2=\"20\" style=\"stroke:#4db27f;stroke-width:3;\" /><line x1=\"425\" y1=\"0\" x2=\"425\" y2=\"20\" style=\"stroke:#4cb27e;stroke-width:3;\" /><line x1=\"426\" y1=\"0\" x2=\"426\" y2=\"20\" style=\"stroke:#4cb27e;stroke-width:3;\" /><line x1=\"427\" y1=\"0\" x2=\"427\" y2=\"20\" style=\"stroke:#4bb27e;stroke-width:3;\" /><line x1=\"428\" y1=\"0\" x2=\"428\" y2=\"20\" style=\"stroke:#4bb27d;stroke-width:3;\" /><line x1=\"429\" y1=\"0\" x2=\"429\" y2=\"20\" style=\"stroke:#4ab17d;stroke-width:3;\" /><line x1=\"430\" y1=\"0\" x2=\"430\" y2=\"20\" style=\"stroke:#4ab17c;stroke-width:3;\" /><line x1=\"431\" y1=\"0\" x2=\"431\" y2=\"20\" style=\"stroke:#49b17c;stroke-width:3;\" /><line x1=\"432\" y1=\"0\" x2=\"432\" y2=\"20\" style=\"stroke:#49b17b;stroke-width:3;\" /><line x1=\"433\" y1=\"0\" x2=\"433\" y2=\"20\" style=\"stroke:#49b07b;stroke-width:3;\" /><line x1=\"434\" y1=\"0\" x2=\"434\" y2=\"20\" style=\"stroke:#48b07b;stroke-width:3;\" /><line x1=\"435\" y1=\"0\" x2=\"435\" y2=\"20\" style=\"stroke:#48b07a;stroke-width:3;\" /><line x1=\"436\" y1=\"0\" x2=\"436\" y2=\"20\" style=\"stroke:#47b07a;stroke-width:3;\" /><line x1=\"437\" y1=\"0\" x2=\"437\" y2=\"20\" style=\"stroke:#47b079;stroke-width:3;\" /><line x1=\"438\" y1=\"0\" x2=\"438\" y2=\"20\" style=\"stroke:#46af79;stroke-width:3;\" /><line x1=\"439\" y1=\"0\" x2=\"439\" y2=\"20\" style=\"stroke:#46af78;stroke-width:3;\" /><line x1=\"440\" y1=\"0\" x2=\"440\" y2=\"20\" style=\"stroke:#46af78;stroke-width:3;\" /><line x1=\"441\" y1=\"0\" x2=\"441\" y2=\"20\" style=\"stroke:#45af78;stroke-width:3;\" /><line x1=\"442\" y1=\"0\" x2=\"442\" y2=\"20\" style=\"stroke:#45af77;stroke-width:3;\" /><line x1=\"443\" y1=\"0\" x2=\"443\" y2=\"20\" style=\"stroke:#44ae77;stroke-width:3;\" /><line x1=\"444\" y1=\"0\" x2=\"444\" y2=\"20\" style=\"stroke:#44ae76;stroke-width:3;\" /><line x1=\"445\" y1=\"0\" x2=\"445\" y2=\"20\" style=\"stroke:#43ae76;stroke-width:3;\" /><line x1=\"446\" y1=\"0\" x2=\"446\" y2=\"20\" style=\"stroke:#43ae75;stroke-width:3;\" /><line x1=\"447\" y1=\"0\" x2=\"447\" y2=\"20\" style=\"stroke:#42ad75;stroke-width:3;\" /><line x1=\"448\" y1=\"0\" x2=\"448\" y2=\"20\" style=\"stroke:#42ad75;stroke-width:3;\" /><line x1=\"449\" y1=\"0\" x2=\"449\" y2=\"20\" style=\"stroke:#42ad74;stroke-width:3;\" /><line x1=\"450\" y1=\"0\" x2=\"450\" y2=\"20\" style=\"stroke:#41ad74;stroke-width:3;\" /><line x1=\"451\" y1=\"0\" x2=\"451\" y2=\"20\" style=\"stroke:#41ad73;stroke-width:3;\" /><line x1=\"452\" y1=\"0\" x2=\"452\" y2=\"20\" style=\"stroke:#40ac73;stroke-width:3;\" /><line x1=\"453\" y1=\"0\" x2=\"453\" y2=\"20\" style=\"stroke:#40ac72;stroke-width:3;\" /><line x1=\"454\" y1=\"0\" x2=\"454\" y2=\"20\" style=\"stroke:#3fac72;stroke-width:3;\" /><line x1=\"455\" y1=\"0\" x2=\"455\" y2=\"20\" style=\"stroke:#3fac72;stroke-width:3;\" /><line x1=\"456\" y1=\"0\" x2=\"456\" y2=\"20\" style=\"stroke:#3fab71;stroke-width:3;\" /><line x1=\"457\" y1=\"0\" x2=\"457\" y2=\"20\" style=\"stroke:#3eab71;stroke-width:3;\" /><line x1=\"458\" y1=\"0\" x2=\"458\" y2=\"20\" style=\"stroke:#3eab70;stroke-width:3;\" /><line x1=\"459\" y1=\"0\" x2=\"459\" y2=\"20\" style=\"stroke:#3dab70;stroke-width:3;\" /><line x1=\"460\" y1=\"0\" x2=\"460\" y2=\"20\" style=\"stroke:#3dab70;stroke-width:3;\" /><line x1=\"461\" y1=\"0\" x2=\"461\" y2=\"20\" style=\"stroke:#3caa6f;stroke-width:3;\" /><line x1=\"462\" y1=\"0\" x2=\"462\" y2=\"20\" style=\"stroke:#3caa6f;stroke-width:3;\" /><line x1=\"463\" y1=\"0\" x2=\"463\" y2=\"20\" style=\"stroke:#3baa6e;stroke-width:3;\" /><line x1=\"464\" y1=\"0\" x2=\"464\" y2=\"20\" style=\"stroke:#3baa6e;stroke-width:3;\" /><line x1=\"465\" y1=\"0\" x2=\"465\" y2=\"20\" style=\"stroke:#3baa6d;stroke-width:3;\" /><line x1=\"466\" y1=\"0\" x2=\"466\" y2=\"20\" style=\"stroke:#3aa96d;stroke-width:3;\" /><line x1=\"467\" y1=\"0\" x2=\"467\" y2=\"20\" style=\"stroke:#3aa96d;stroke-width:3;\" /><line x1=\"468\" y1=\"0\" x2=\"468\" y2=\"20\" style=\"stroke:#39a96c;stroke-width:3;\" /><line x1=\"469\" y1=\"0\" x2=\"469\" y2=\"20\" style=\"stroke:#39a96c;stroke-width:3;\" /><line x1=\"470\" y1=\"0\" x2=\"470\" y2=\"20\" style=\"stroke:#38a86b;stroke-width:3;\" /><line x1=\"471\" y1=\"0\" x2=\"471\" y2=\"20\" style=\"stroke:#38a86b;stroke-width:3;\" /><line x1=\"472\" y1=\"0\" x2=\"472\" y2=\"20\" style=\"stroke:#38a86a;stroke-width:3;\" /><line x1=\"473\" y1=\"0\" x2=\"473\" y2=\"20\" style=\"stroke:#37a86a;stroke-width:3;\" /><line x1=\"474\" y1=\"0\" x2=\"474\" y2=\"20\" style=\"stroke:#37a86a;stroke-width:3;\" /><line x1=\"475\" y1=\"0\" x2=\"475\" y2=\"20\" style=\"stroke:#36a769;stroke-width:3;\" /><line x1=\"476\" y1=\"0\" x2=\"476\" y2=\"20\" style=\"stroke:#36a769;stroke-width:3;\" /><line x1=\"477\" y1=\"0\" x2=\"477\" y2=\"20\" style=\"stroke:#35a768;stroke-width:3;\" /><line x1=\"478\" y1=\"0\" x2=\"478\" y2=\"20\" style=\"stroke:#35a768;stroke-width:3;\" /><line x1=\"479\" y1=\"0\" x2=\"479\" y2=\"20\" style=\"stroke:#34a667;stroke-width:3;\" /><line x1=\"480\" y1=\"0\" x2=\"480\" y2=\"20\" style=\"stroke:#34a667;stroke-width:3;\" /><line x1=\"481\" y1=\"0\" x2=\"481\" y2=\"20\" style=\"stroke:#34a667;stroke-width:3;\" /><line x1=\"482\" y1=\"0\" x2=\"482\" y2=\"20\" style=\"stroke:#33a666;stroke-width:3;\" /><line x1=\"483\" y1=\"0\" x2=\"483\" y2=\"20\" style=\"stroke:#33a666;stroke-width:3;\" /><line x1=\"484\" y1=\"0\" x2=\"484\" y2=\"20\" style=\"stroke:#32a565;stroke-width:3;\" /><line x1=\"485\" y1=\"0\" x2=\"485\" y2=\"20\" style=\"stroke:#32a565;stroke-width:3;\" /><line x1=\"486\" y1=\"0\" x2=\"486\" y2=\"20\" style=\"stroke:#31a564;stroke-width:3;\" /><line x1=\"487\" y1=\"0\" x2=\"487\" y2=\"20\" style=\"stroke:#31a564;stroke-width:3;\" /><line x1=\"488\" y1=\"0\" x2=\"488\" y2=\"20\" style=\"stroke:#30a564;stroke-width:3;\" /><line x1=\"489\" y1=\"0\" x2=\"489\" y2=\"20\" style=\"stroke:#30a463;stroke-width:3;\" /><line x1=\"490\" y1=\"0\" x2=\"490\" y2=\"20\" style=\"stroke:#30a463;stroke-width:3;\" /><line x1=\"491\" y1=\"0\" x2=\"491\" y2=\"20\" style=\"stroke:#2fa462;stroke-width:3;\" /><line x1=\"492\" y1=\"0\" x2=\"492\" y2=\"20\" style=\"stroke:#2fa462;stroke-width:3;\" /><line x1=\"493\" y1=\"0\" x2=\"493\" y2=\"20\" style=\"stroke:#2ea361;stroke-width:3;\" /><line x1=\"494\" y1=\"0\" x2=\"494\" y2=\"20\" style=\"stroke:#2ea361;stroke-width:3;\" /><line x1=\"495\" y1=\"0\" x2=\"495\" y2=\"20\" style=\"stroke:#2da361;stroke-width:3;\" /><line x1=\"496\" y1=\"0\" x2=\"496\" y2=\"20\" style=\"stroke:#2da360;stroke-width:3;\" /><line x1=\"497\" y1=\"0\" x2=\"497\" y2=\"20\" style=\"stroke:#2da360;stroke-width:3;\" /><line x1=\"498\" y1=\"0\" x2=\"498\" y2=\"20\" style=\"stroke:#2ca25f;stroke-width:3;\" /><line x1=\"499\" y1=\"0\" x2=\"499\" y2=\"20\" style=\"stroke:#2ca25f;stroke-width:3;\" /><text x=\"0\" y=\"35\">0.254777</text><text x=\"500\" y=\"35\" style=\"text-anchor:end;\">77.302402</text></svg>"
      ],
      "text/plain": [
       "<branca.colormap.LinearColormap at 0x10de9e390>"
      ]
     },
     "execution_count": 28,
     "metadata": {},
     "output_type": "execute_result"
    }
   ],
   "source": [
    "colormap = linear.BuGn_03.scale(0.254777,77.302402)\n",
    "print(colormap(5.0))\n",
    "colormap"
   ]
  },
  {
   "cell_type": "code",
   "execution_count": 29,
   "metadata": {},
   "outputs": [
    {
     "data": {
      "text/plain": [
       "8.518863691277485"
      ]
     },
     "execution_count": 29,
     "metadata": {},
     "output_type": "execute_result"
    }
   ],
   "source": [
    "#convert the table into a dictionnary, in order to map a feature to it's percent black values.\n",
    "percent_dict = demographics.set_index('Zip Code')['Percent NonHisp Black']\n",
    "#Check if the index is working\n",
    "percent_dict[90001]"
   ]
  },
  {
   "cell_type": "code",
   "execution_count": 30,
   "metadata": {},
   "outputs": [
    {
     "data": {
      "text/plain": [
       "'90012'"
      ]
     },
     "execution_count": 30,
     "metadata": {},
     "output_type": "execute_result"
    }
   ],
   "source": [
    "#Check on the geojson file where the zipcode information is:\n",
    "geo_json_data['features'][10]['properties']['external_id']"
   ]
  },
  {
   "cell_type": "code",
   "execution_count": null,
   "metadata": {},
   "outputs": [],
   "source": [
    "folium.GeoJson(\n",
    "    geo_json_data,\n",
    "    name='demographics',\n",
    "    style_function=lambda feature: {\n",
    "        'fillColor': colormap(percent_dict[feature['properties']['external_id']]),\n",
    "        'color': 'white',\n",
    "        'weight': 1,\n",
    "        'dashArray': '5, 5',\n",
    "        'fillOpacity': 0.9,\n",
    "    }\n",
    ").add_to(map)\n",
    "\n",
    "folium.LayerControl().add_to(map)"
   ]
  },
  {
   "cell_type": "code",
   "execution_count": null,
   "metadata": {},
   "outputs": [],
   "source": []
  }
 ],
 "metadata": {
  "kernelspec": {
   "display_name": "Python 3",
   "language": "python",
   "name": "python3"
  },
  "language_info": {
   "codemirror_mode": {
    "name": "ipython",
    "version": 3
   },
   "file_extension": ".py",
   "mimetype": "text/x-python",
   "name": "python",
   "nbconvert_exporter": "python",
   "pygments_lexer": "ipython3",
   "version": "3.6.5"
  }
 },
 "nbformat": 4,
 "nbformat_minor": 2
}
